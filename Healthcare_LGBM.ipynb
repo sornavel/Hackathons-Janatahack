{
  "nbformat": 4,
  "nbformat_minor": 0,
  "metadata": {
    "colab": {
      "name": "Healthcare_LGBM.ipynb",
      "provenance": [],
      "collapsed_sections": [],
      "include_colab_link": true
    },
    "kernelspec": {
      "name": "python3",
      "display_name": "Python 3"
    },
    "accelerator": "GPU"
  },
  "cells": [
    {
      "cell_type": "markdown",
      "metadata": {
        "id": "view-in-github",
        "colab_type": "text"
      },
      "source": [
        "<a href=\"https://colab.research.google.com/github/sornavel/Hackathons-Janatahack/blob/master/Healthcare_LGBM.ipynb\" target=\"_parent\"><img src=\"https://colab.research.google.com/assets/colab-badge.svg\" alt=\"Open In Colab\"/></a>"
      ]
    },
    {
      "cell_type": "code",
      "metadata": {
        "id": "XbHNnoSG1j9M",
        "colab_type": "code",
        "colab": {
          "base_uri": "https://localhost:8080/",
          "height": 275
        },
        "outputId": "c90c4257-22a1-487a-c94e-9b550a5fbf4d"
      },
      "source": [
        "!pip install PyDrive"
      ],
      "execution_count": null,
      "outputs": [
        {
          "output_type": "stream",
          "text": [
            "Requirement already satisfied: PyDrive in /usr/local/lib/python3.6/dist-packages (1.3.1)\n",
            "Requirement already satisfied: google-api-python-client>=1.2 in /usr/local/lib/python3.6/dist-packages (from PyDrive) (1.7.12)\n",
            "Requirement already satisfied: PyYAML>=3.0 in /usr/local/lib/python3.6/dist-packages (from PyDrive) (3.13)\n",
            "Requirement already satisfied: oauth2client>=4.0.0 in /usr/local/lib/python3.6/dist-packages (from PyDrive) (4.1.3)\n",
            "Requirement already satisfied: uritemplate<4dev,>=3.0.0 in /usr/local/lib/python3.6/dist-packages (from google-api-python-client>=1.2->PyDrive) (3.0.1)\n",
            "Requirement already satisfied: six<2dev,>=1.6.1 in /usr/local/lib/python3.6/dist-packages (from google-api-python-client>=1.2->PyDrive) (1.12.0)\n",
            "Requirement already satisfied: google-auth>=1.4.1 in /usr/local/lib/python3.6/dist-packages (from google-api-python-client>=1.2->PyDrive) (1.17.2)\n",
            "Requirement already satisfied: httplib2<1dev,>=0.17.0 in /usr/local/lib/python3.6/dist-packages (from google-api-python-client>=1.2->PyDrive) (0.17.4)\n",
            "Requirement already satisfied: google-auth-httplib2>=0.0.3 in /usr/local/lib/python3.6/dist-packages (from google-api-python-client>=1.2->PyDrive) (0.0.4)\n",
            "Requirement already satisfied: pyasn1-modules>=0.0.5 in /usr/local/lib/python3.6/dist-packages (from oauth2client>=4.0.0->PyDrive) (0.2.8)\n",
            "Requirement already satisfied: rsa>=3.1.4 in /usr/local/lib/python3.6/dist-packages (from oauth2client>=4.0.0->PyDrive) (4.6)\n",
            "Requirement already satisfied: pyasn1>=0.1.7 in /usr/local/lib/python3.6/dist-packages (from oauth2client>=4.0.0->PyDrive) (0.4.8)\n",
            "Requirement already satisfied: cachetools<5.0,>=2.0.0 in /usr/local/lib/python3.6/dist-packages (from google-auth>=1.4.1->google-api-python-client>=1.2->PyDrive) (4.1.1)\n",
            "Requirement already satisfied: setuptools>=40.3.0 in /usr/local/lib/python3.6/dist-packages (from google-auth>=1.4.1->google-api-python-client>=1.2->PyDrive) (49.1.0)\n"
          ],
          "name": "stdout"
        }
      ]
    },
    {
      "cell_type": "code",
      "metadata": {
        "id": "zMxN4DD_1pVv",
        "colab_type": "code",
        "colab": {}
      },
      "source": [
        "import os\n",
        "import pandas as pd\n",
        "from pydrive.auth import GoogleAuth\n",
        "from pydrive.drive import GoogleDrive\n",
        "from google.colab import auth\n",
        "from oauth2client.client import GoogleCredentials\n",
        "import numpy as np\n",
        "import matplotlib.pyplot as plt\n",
        "%matplotlib inline\n",
        "import seaborn as sns\n",
        "np.random.seed(0)\n",
        "from tqdm import tqdm, tqdm_notebook\n",
        "tqdm.pandas()\n",
        "from IPython.core.display import HTML \n",
        "from IPython.display import Image\n",
        "import gc\n",
        "from keras.applications.densenet import preprocess_input, DenseNet121\n",
        "from keras.models import Model\n",
        "from keras.layers import GlobalAveragePooling2D, Input, Lambda, AveragePooling1D\n",
        "import keras.backend as K"
      ],
      "execution_count": null,
      "outputs": []
    },
    {
      "cell_type": "code",
      "metadata": {
        "id": "S21HE-gZ1tf8",
        "colab_type": "code",
        "colab": {}
      },
      "source": [
        "auth.authenticate_user()\n",
        "gauth = GoogleAuth()\n",
        "gauth.credentials = GoogleCredentials.get_application_default()\n",
        "drive = GoogleDrive(gauth)"
      ],
      "execution_count": null,
      "outputs": []
    },
    {
      "cell_type": "code",
      "metadata": {
        "colab_type": "code",
        "id": "649tYSDnK-TB",
        "colab": {}
      },
      "source": [
        "download = drive.CreateFile({'id': '1FUu6ZyHdGB_ElcE4ZuwzPAh-DbQ7mAwQ'})\n",
        "download.GetContentFile('train.csv')\n",
        "train_df = pd.read_csv('train.csv')\n",
        "\n",
        "download = drive.CreateFile({'id': '1vE_M60f3HJ4R1GSFl3QjHWzuwEIcVrmd'})\n",
        "download.GetContentFile('Third_Health_Camp_Attended.csv')\n",
        "third_df = pd.read_csv('Third_Health_Camp_Attended.csv')\n",
        "\n",
        "download = drive.CreateFile({'id': '1hnoPLF_uC4hrpCcSFmGJ1UxLog7grgrl'})\n",
        "download.GetContentFile('Second_Health_Camp_Attended.csv')\n",
        "second_df = pd.read_csv('Second_Health_Camp_Attended.csv')\n",
        "\n",
        "download = drive.CreateFile({'id': '1LMzFdyra4gObQctf5h0lb6DtUnqiLBT3'})\n",
        "download.GetContentFile('First_Health_Camp_Attended.csv')\n",
        "first_df = pd.read_csv('First_Health_Camp_Attended.csv')\n",
        "\n",
        "download = drive.CreateFile({'id': '16JMb9xNz5BEMlV9dS7reh9yi8ivGHYT2'})\n",
        "download.GetContentFile('Patient_Profile.csv')\n",
        "patient_df = pd.read_csv('Patient_Profile.csv')\n",
        "\n",
        "download = drive.CreateFile({'id': '16AFNM3SlDDRMpEAdq4ssddK5QwoH9S33'})\n",
        "download.GetContentFile('Health_Camp_Detail.csv')\n",
        "camp_df = pd.read_csv('Health_Camp_Detail.csv')\n",
        "\n",
        "download = drive.CreateFile({'id': '1aQqKgHFJ0M5j-V34G_TZgOIi2xc6GnaA'})\n",
        "download.GetContentFile('test.csv')\n",
        "test_df = pd.read_csv('test.csv')"
      ],
      "execution_count": null,
      "outputs": []
    },
    {
      "cell_type": "code",
      "metadata": {
        "id": "En7hac61QIDs",
        "colab_type": "code",
        "colab": {
          "base_uri": "https://localhost:8080/",
          "height": 204
        },
        "outputId": "5104f5ec-c5c2-4898-e77b-fc156eedb640"
      },
      "source": [
        "train_df.head()"
      ],
      "execution_count": null,
      "outputs": [
        {
          "output_type": "execute_result",
          "data": {
            "text/html": [
              "<div>\n",
              "<style scoped>\n",
              "    .dataframe tbody tr th:only-of-type {\n",
              "        vertical-align: middle;\n",
              "    }\n",
              "\n",
              "    .dataframe tbody tr th {\n",
              "        vertical-align: top;\n",
              "    }\n",
              "\n",
              "    .dataframe thead th {\n",
              "        text-align: right;\n",
              "    }\n",
              "</style>\n",
              "<table border=\"1\" class=\"dataframe\">\n",
              "  <thead>\n",
              "    <tr style=\"text-align: right;\">\n",
              "      <th></th>\n",
              "      <th>Patient_ID</th>\n",
              "      <th>Health_Camp_ID</th>\n",
              "      <th>Registration_Date</th>\n",
              "      <th>Var1</th>\n",
              "      <th>Var2</th>\n",
              "      <th>Var3</th>\n",
              "      <th>Var4</th>\n",
              "      <th>Var5</th>\n",
              "    </tr>\n",
              "  </thead>\n",
              "  <tbody>\n",
              "    <tr>\n",
              "      <th>0</th>\n",
              "      <td>489652</td>\n",
              "      <td>6578</td>\n",
              "      <td>10-Sep-05</td>\n",
              "      <td>4</td>\n",
              "      <td>0</td>\n",
              "      <td>0</td>\n",
              "      <td>0</td>\n",
              "      <td>2</td>\n",
              "    </tr>\n",
              "    <tr>\n",
              "      <th>1</th>\n",
              "      <td>507246</td>\n",
              "      <td>6578</td>\n",
              "      <td>18-Aug-05</td>\n",
              "      <td>45</td>\n",
              "      <td>5</td>\n",
              "      <td>0</td>\n",
              "      <td>0</td>\n",
              "      <td>7</td>\n",
              "    </tr>\n",
              "    <tr>\n",
              "      <th>2</th>\n",
              "      <td>523729</td>\n",
              "      <td>6534</td>\n",
              "      <td>29-Apr-06</td>\n",
              "      <td>0</td>\n",
              "      <td>0</td>\n",
              "      <td>0</td>\n",
              "      <td>0</td>\n",
              "      <td>0</td>\n",
              "    </tr>\n",
              "    <tr>\n",
              "      <th>3</th>\n",
              "      <td>524931</td>\n",
              "      <td>6535</td>\n",
              "      <td>07-Feb-04</td>\n",
              "      <td>0</td>\n",
              "      <td>0</td>\n",
              "      <td>0</td>\n",
              "      <td>0</td>\n",
              "      <td>0</td>\n",
              "    </tr>\n",
              "    <tr>\n",
              "      <th>4</th>\n",
              "      <td>521364</td>\n",
              "      <td>6529</td>\n",
              "      <td>28-Feb-06</td>\n",
              "      <td>15</td>\n",
              "      <td>1</td>\n",
              "      <td>0</td>\n",
              "      <td>0</td>\n",
              "      <td>7</td>\n",
              "    </tr>\n",
              "  </tbody>\n",
              "</table>\n",
              "</div>"
            ],
            "text/plain": [
              "   Patient_ID  Health_Camp_ID Registration_Date  Var1  Var2  Var3  Var4  Var5\n",
              "0      489652            6578         10-Sep-05     4     0     0     0     2\n",
              "1      507246            6578         18-Aug-05    45     5     0     0     7\n",
              "2      523729            6534         29-Apr-06     0     0     0     0     0\n",
              "3      524931            6535         07-Feb-04     0     0     0     0     0\n",
              "4      521364            6529         28-Feb-06    15     1     0     0     7"
            ]
          },
          "metadata": {
            "tags": []
          },
          "execution_count": 76
        }
      ]
    },
    {
      "cell_type": "code",
      "metadata": {
        "id": "SofCkx-JZpL3",
        "colab_type": "code",
        "colab": {
          "base_uri": "https://localhost:8080/",
          "height": 204
        },
        "outputId": "e85ecc27-f72f-47cf-f8c2-2890424e73fd"
      },
      "source": [
        "first_df.head()"
      ],
      "execution_count": null,
      "outputs": [
        {
          "output_type": "execute_result",
          "data": {
            "text/html": [
              "<div>\n",
              "<style scoped>\n",
              "    .dataframe tbody tr th:only-of-type {\n",
              "        vertical-align: middle;\n",
              "    }\n",
              "\n",
              "    .dataframe tbody tr th {\n",
              "        vertical-align: top;\n",
              "    }\n",
              "\n",
              "    .dataframe thead th {\n",
              "        text-align: right;\n",
              "    }\n",
              "</style>\n",
              "<table border=\"1\" class=\"dataframe\">\n",
              "  <thead>\n",
              "    <tr style=\"text-align: right;\">\n",
              "      <th></th>\n",
              "      <th>Patient_ID</th>\n",
              "      <th>Health_Camp_ID</th>\n",
              "      <th>Donation</th>\n",
              "      <th>Health_Score</th>\n",
              "      <th>Unnamed: 4</th>\n",
              "    </tr>\n",
              "  </thead>\n",
              "  <tbody>\n",
              "    <tr>\n",
              "      <th>0</th>\n",
              "      <td>506181</td>\n",
              "      <td>6560</td>\n",
              "      <td>40</td>\n",
              "      <td>0.439024</td>\n",
              "      <td>NaN</td>\n",
              "    </tr>\n",
              "    <tr>\n",
              "      <th>1</th>\n",
              "      <td>494977</td>\n",
              "      <td>6560</td>\n",
              "      <td>20</td>\n",
              "      <td>0.097561</td>\n",
              "      <td>NaN</td>\n",
              "    </tr>\n",
              "    <tr>\n",
              "      <th>2</th>\n",
              "      <td>518680</td>\n",
              "      <td>6560</td>\n",
              "      <td>10</td>\n",
              "      <td>0.048780</td>\n",
              "      <td>NaN</td>\n",
              "    </tr>\n",
              "    <tr>\n",
              "      <th>3</th>\n",
              "      <td>509916</td>\n",
              "      <td>6560</td>\n",
              "      <td>30</td>\n",
              "      <td>0.634146</td>\n",
              "      <td>NaN</td>\n",
              "    </tr>\n",
              "    <tr>\n",
              "      <th>4</th>\n",
              "      <td>488006</td>\n",
              "      <td>6560</td>\n",
              "      <td>20</td>\n",
              "      <td>0.024390</td>\n",
              "      <td>NaN</td>\n",
              "    </tr>\n",
              "  </tbody>\n",
              "</table>\n",
              "</div>"
            ],
            "text/plain": [
              "   Patient_ID  Health_Camp_ID  Donation  Health_Score  Unnamed: 4\n",
              "0      506181            6560        40      0.439024         NaN\n",
              "1      494977            6560        20      0.097561         NaN\n",
              "2      518680            6560        10      0.048780         NaN\n",
              "3      509916            6560        30      0.634146         NaN\n",
              "4      488006            6560        20      0.024390         NaN"
            ]
          },
          "metadata": {
            "tags": []
          },
          "execution_count": 77
        }
      ]
    },
    {
      "cell_type": "code",
      "metadata": {
        "id": "2MN9zwCpC8B0",
        "colab_type": "code",
        "colab": {
          "base_uri": "https://localhost:8080/",
          "height": 204
        },
        "outputId": "97d74596-d363-4378-9c09-de3c8523befc"
      },
      "source": [
        "second_df.head()"
      ],
      "execution_count": null,
      "outputs": [
        {
          "output_type": "execute_result",
          "data": {
            "text/html": [
              "<div>\n",
              "<style scoped>\n",
              "    .dataframe tbody tr th:only-of-type {\n",
              "        vertical-align: middle;\n",
              "    }\n",
              "\n",
              "    .dataframe tbody tr th {\n",
              "        vertical-align: top;\n",
              "    }\n",
              "\n",
              "    .dataframe thead th {\n",
              "        text-align: right;\n",
              "    }\n",
              "</style>\n",
              "<table border=\"1\" class=\"dataframe\">\n",
              "  <thead>\n",
              "    <tr style=\"text-align: right;\">\n",
              "      <th></th>\n",
              "      <th>Patient_ID</th>\n",
              "      <th>Health_Camp_ID</th>\n",
              "      <th>Health Score</th>\n",
              "    </tr>\n",
              "  </thead>\n",
              "  <tbody>\n",
              "    <tr>\n",
              "      <th>0</th>\n",
              "      <td>526631</td>\n",
              "      <td>6536</td>\n",
              "      <td>0.875136</td>\n",
              "    </tr>\n",
              "    <tr>\n",
              "      <th>1</th>\n",
              "      <td>509122</td>\n",
              "      <td>6536</td>\n",
              "      <td>0.755700</td>\n",
              "    </tr>\n",
              "    <tr>\n",
              "      <th>2</th>\n",
              "      <td>498864</td>\n",
              "      <td>6536</td>\n",
              "      <td>0.673181</td>\n",
              "    </tr>\n",
              "    <tr>\n",
              "      <th>3</th>\n",
              "      <td>515398</td>\n",
              "      <td>6536</td>\n",
              "      <td>0.722041</td>\n",
              "    </tr>\n",
              "    <tr>\n",
              "      <th>4</th>\n",
              "      <td>504624</td>\n",
              "      <td>6536</td>\n",
              "      <td>0.464712</td>\n",
              "    </tr>\n",
              "  </tbody>\n",
              "</table>\n",
              "</div>"
            ],
            "text/plain": [
              "   Patient_ID  Health_Camp_ID  Health Score\n",
              "0      526631            6536      0.875136\n",
              "1      509122            6536      0.755700\n",
              "2      498864            6536      0.673181\n",
              "3      515398            6536      0.722041\n",
              "4      504624            6536      0.464712"
            ]
          },
          "metadata": {
            "tags": []
          },
          "execution_count": 78
        }
      ]
    },
    {
      "cell_type": "code",
      "metadata": {
        "id": "s_uvwI-rFjxB",
        "colab_type": "code",
        "colab": {
          "base_uri": "https://localhost:8080/",
          "height": 204
        },
        "outputId": "4242e21e-a750-4f56-c38a-24aa7a26438c"
      },
      "source": [
        "third_df.head()"
      ],
      "execution_count": null,
      "outputs": [
        {
          "output_type": "execute_result",
          "data": {
            "text/html": [
              "<div>\n",
              "<style scoped>\n",
              "    .dataframe tbody tr th:only-of-type {\n",
              "        vertical-align: middle;\n",
              "    }\n",
              "\n",
              "    .dataframe tbody tr th {\n",
              "        vertical-align: top;\n",
              "    }\n",
              "\n",
              "    .dataframe thead th {\n",
              "        text-align: right;\n",
              "    }\n",
              "</style>\n",
              "<table border=\"1\" class=\"dataframe\">\n",
              "  <thead>\n",
              "    <tr style=\"text-align: right;\">\n",
              "      <th></th>\n",
              "      <th>Patient_ID</th>\n",
              "      <th>Health_Camp_ID</th>\n",
              "      <th>Number_of_stall_visited</th>\n",
              "      <th>Last_Stall_Visited_Number</th>\n",
              "    </tr>\n",
              "  </thead>\n",
              "  <tbody>\n",
              "    <tr>\n",
              "      <th>0</th>\n",
              "      <td>517875</td>\n",
              "      <td>6527</td>\n",
              "      <td>3</td>\n",
              "      <td>1</td>\n",
              "    </tr>\n",
              "    <tr>\n",
              "      <th>1</th>\n",
              "      <td>504692</td>\n",
              "      <td>6578</td>\n",
              "      <td>1</td>\n",
              "      <td>1</td>\n",
              "    </tr>\n",
              "    <tr>\n",
              "      <th>2</th>\n",
              "      <td>504692</td>\n",
              "      <td>6527</td>\n",
              "      <td>3</td>\n",
              "      <td>1</td>\n",
              "    </tr>\n",
              "    <tr>\n",
              "      <th>3</th>\n",
              "      <td>493167</td>\n",
              "      <td>6527</td>\n",
              "      <td>4</td>\n",
              "      <td>4</td>\n",
              "    </tr>\n",
              "    <tr>\n",
              "      <th>4</th>\n",
              "      <td>510954</td>\n",
              "      <td>6528</td>\n",
              "      <td>2</td>\n",
              "      <td>2</td>\n",
              "    </tr>\n",
              "  </tbody>\n",
              "</table>\n",
              "</div>"
            ],
            "text/plain": [
              "   Patient_ID  ...  Last_Stall_Visited_Number\n",
              "0      517875  ...                          1\n",
              "1      504692  ...                          1\n",
              "2      504692  ...                          1\n",
              "3      493167  ...                          4\n",
              "4      510954  ...                          2\n",
              "\n",
              "[5 rows x 4 columns]"
            ]
          },
          "metadata": {
            "tags": []
          },
          "execution_count": 79
        }
      ]
    },
    {
      "cell_type": "code",
      "metadata": {
        "id": "w751n0p2mZzY",
        "colab_type": "code",
        "colab": {
          "base_uri": "https://localhost:8080/",
          "height": 204
        },
        "outputId": "db1d9723-2c3a-44ac-87e9-a985608e21cb"
      },
      "source": [
        "patient_df.head()"
      ],
      "execution_count": null,
      "outputs": [
        {
          "output_type": "execute_result",
          "data": {
            "text/html": [
              "<div>\n",
              "<style scoped>\n",
              "    .dataframe tbody tr th:only-of-type {\n",
              "        vertical-align: middle;\n",
              "    }\n",
              "\n",
              "    .dataframe tbody tr th {\n",
              "        vertical-align: top;\n",
              "    }\n",
              "\n",
              "    .dataframe thead th {\n",
              "        text-align: right;\n",
              "    }\n",
              "</style>\n",
              "<table border=\"1\" class=\"dataframe\">\n",
              "  <thead>\n",
              "    <tr style=\"text-align: right;\">\n",
              "      <th></th>\n",
              "      <th>Patient_ID</th>\n",
              "      <th>Online_Follower</th>\n",
              "      <th>LinkedIn_Shared</th>\n",
              "      <th>Twitter_Shared</th>\n",
              "      <th>Facebook_Shared</th>\n",
              "      <th>Income</th>\n",
              "      <th>Education_Score</th>\n",
              "      <th>Age</th>\n",
              "      <th>First_Interaction</th>\n",
              "      <th>City_Type</th>\n",
              "      <th>Employer_Category</th>\n",
              "    </tr>\n",
              "  </thead>\n",
              "  <tbody>\n",
              "    <tr>\n",
              "      <th>0</th>\n",
              "      <td>516956</td>\n",
              "      <td>0</td>\n",
              "      <td>0</td>\n",
              "      <td>0</td>\n",
              "      <td>0</td>\n",
              "      <td>1</td>\n",
              "      <td>90</td>\n",
              "      <td>39</td>\n",
              "      <td>18-Jun-03</td>\n",
              "      <td>NaN</td>\n",
              "      <td>Software Industry</td>\n",
              "    </tr>\n",
              "    <tr>\n",
              "      <th>1</th>\n",
              "      <td>507733</td>\n",
              "      <td>0</td>\n",
              "      <td>0</td>\n",
              "      <td>0</td>\n",
              "      <td>0</td>\n",
              "      <td>1</td>\n",
              "      <td>None</td>\n",
              "      <td>40</td>\n",
              "      <td>20-Jul-03</td>\n",
              "      <td>H</td>\n",
              "      <td>Software Industry</td>\n",
              "    </tr>\n",
              "    <tr>\n",
              "      <th>2</th>\n",
              "      <td>508307</td>\n",
              "      <td>0</td>\n",
              "      <td>0</td>\n",
              "      <td>0</td>\n",
              "      <td>0</td>\n",
              "      <td>3</td>\n",
              "      <td>87</td>\n",
              "      <td>46</td>\n",
              "      <td>02-Nov-02</td>\n",
              "      <td>D</td>\n",
              "      <td>BFSI</td>\n",
              "    </tr>\n",
              "    <tr>\n",
              "      <th>3</th>\n",
              "      <td>512612</td>\n",
              "      <td>0</td>\n",
              "      <td>0</td>\n",
              "      <td>0</td>\n",
              "      <td>0</td>\n",
              "      <td>1</td>\n",
              "      <td>75</td>\n",
              "      <td>47</td>\n",
              "      <td>02-Nov-02</td>\n",
              "      <td>D</td>\n",
              "      <td>Education</td>\n",
              "    </tr>\n",
              "    <tr>\n",
              "      <th>4</th>\n",
              "      <td>521075</td>\n",
              "      <td>0</td>\n",
              "      <td>0</td>\n",
              "      <td>0</td>\n",
              "      <td>0</td>\n",
              "      <td>3</td>\n",
              "      <td>None</td>\n",
              "      <td>80</td>\n",
              "      <td>24-Nov-02</td>\n",
              "      <td>H</td>\n",
              "      <td>Others</td>\n",
              "    </tr>\n",
              "  </tbody>\n",
              "</table>\n",
              "</div>"
            ],
            "text/plain": [
              "   Patient_ID  Online_Follower  ...  City_Type  Employer_Category\n",
              "0      516956                0  ...        NaN  Software Industry\n",
              "1      507733                0  ...          H  Software Industry\n",
              "2      508307                0  ...          D               BFSI\n",
              "3      512612                0  ...          D          Education\n",
              "4      521075                0  ...          H             Others\n",
              "\n",
              "[5 rows x 11 columns]"
            ]
          },
          "metadata": {
            "tags": []
          },
          "execution_count": 80
        }
      ]
    },
    {
      "cell_type": "code",
      "metadata": {
        "id": "OZ5gVEqUmZw4",
        "colab_type": "code",
        "colab": {
          "base_uri": "https://localhost:8080/",
          "height": 204
        },
        "outputId": "b43c38c5-76dd-489b-aee3-b6981baf2ce4"
      },
      "source": [
        "camp_df.head()"
      ],
      "execution_count": null,
      "outputs": [
        {
          "output_type": "execute_result",
          "data": {
            "text/html": [
              "<div>\n",
              "<style scoped>\n",
              "    .dataframe tbody tr th:only-of-type {\n",
              "        vertical-align: middle;\n",
              "    }\n",
              "\n",
              "    .dataframe tbody tr th {\n",
              "        vertical-align: top;\n",
              "    }\n",
              "\n",
              "    .dataframe thead th {\n",
              "        text-align: right;\n",
              "    }\n",
              "</style>\n",
              "<table border=\"1\" class=\"dataframe\">\n",
              "  <thead>\n",
              "    <tr style=\"text-align: right;\">\n",
              "      <th></th>\n",
              "      <th>Health_Camp_ID</th>\n",
              "      <th>Camp_Start_Date</th>\n",
              "      <th>Camp_End_Date</th>\n",
              "      <th>Category1</th>\n",
              "      <th>Category2</th>\n",
              "      <th>Category3</th>\n",
              "    </tr>\n",
              "  </thead>\n",
              "  <tbody>\n",
              "    <tr>\n",
              "      <th>0</th>\n",
              "      <td>6560</td>\n",
              "      <td>16-Aug-03</td>\n",
              "      <td>20-Aug-03</td>\n",
              "      <td>First</td>\n",
              "      <td>B</td>\n",
              "      <td>2</td>\n",
              "    </tr>\n",
              "    <tr>\n",
              "      <th>1</th>\n",
              "      <td>6530</td>\n",
              "      <td>16-Aug-03</td>\n",
              "      <td>28-Oct-03</td>\n",
              "      <td>First</td>\n",
              "      <td>C</td>\n",
              "      <td>2</td>\n",
              "    </tr>\n",
              "    <tr>\n",
              "      <th>2</th>\n",
              "      <td>6544</td>\n",
              "      <td>03-Nov-03</td>\n",
              "      <td>15-Nov-03</td>\n",
              "      <td>First</td>\n",
              "      <td>F</td>\n",
              "      <td>1</td>\n",
              "    </tr>\n",
              "    <tr>\n",
              "      <th>3</th>\n",
              "      <td>6585</td>\n",
              "      <td>22-Nov-03</td>\n",
              "      <td>05-Dec-03</td>\n",
              "      <td>First</td>\n",
              "      <td>E</td>\n",
              "      <td>2</td>\n",
              "    </tr>\n",
              "    <tr>\n",
              "      <th>4</th>\n",
              "      <td>6561</td>\n",
              "      <td>30-Nov-03</td>\n",
              "      <td>18-Dec-03</td>\n",
              "      <td>First</td>\n",
              "      <td>E</td>\n",
              "      <td>1</td>\n",
              "    </tr>\n",
              "  </tbody>\n",
              "</table>\n",
              "</div>"
            ],
            "text/plain": [
              "   Health_Camp_ID Camp_Start_Date Camp_End_Date Category1 Category2  Category3\n",
              "0            6560       16-Aug-03     20-Aug-03     First         B          2\n",
              "1            6530       16-Aug-03     28-Oct-03     First         C          2\n",
              "2            6544       03-Nov-03     15-Nov-03     First         F          1\n",
              "3            6585       22-Nov-03     05-Dec-03     First         E          2\n",
              "4            6561       30-Nov-03     18-Dec-03     First         E          1"
            ]
          },
          "metadata": {
            "tags": []
          },
          "execution_count": 81
        }
      ]
    },
    {
      "cell_type": "code",
      "metadata": {
        "id": "8ZB-nyE8mZuX",
        "colab_type": "code",
        "colab": {
          "base_uri": "https://localhost:8080/",
          "height": 204
        },
        "outputId": "d4bc6d02-f790-435f-c7db-007501c24237"
      },
      "source": [
        "test_df.head()"
      ],
      "execution_count": null,
      "outputs": [
        {
          "output_type": "execute_result",
          "data": {
            "text/html": [
              "<div>\n",
              "<style scoped>\n",
              "    .dataframe tbody tr th:only-of-type {\n",
              "        vertical-align: middle;\n",
              "    }\n",
              "\n",
              "    .dataframe tbody tr th {\n",
              "        vertical-align: top;\n",
              "    }\n",
              "\n",
              "    .dataframe thead th {\n",
              "        text-align: right;\n",
              "    }\n",
              "</style>\n",
              "<table border=\"1\" class=\"dataframe\">\n",
              "  <thead>\n",
              "    <tr style=\"text-align: right;\">\n",
              "      <th></th>\n",
              "      <th>Patient_ID</th>\n",
              "      <th>Health_Camp_ID</th>\n",
              "      <th>Registration_Date</th>\n",
              "      <th>Var1</th>\n",
              "      <th>Var2</th>\n",
              "      <th>Var3</th>\n",
              "      <th>Var4</th>\n",
              "      <th>Var5</th>\n",
              "    </tr>\n",
              "  </thead>\n",
              "  <tbody>\n",
              "    <tr>\n",
              "      <th>0</th>\n",
              "      <td>505701</td>\n",
              "      <td>6548</td>\n",
              "      <td>21-May-06</td>\n",
              "      <td>1</td>\n",
              "      <td>0</td>\n",
              "      <td>0</td>\n",
              "      <td>0</td>\n",
              "      <td>2</td>\n",
              "    </tr>\n",
              "    <tr>\n",
              "      <th>1</th>\n",
              "      <td>500633</td>\n",
              "      <td>6584</td>\n",
              "      <td>02-Jun-06</td>\n",
              "      <td>0</td>\n",
              "      <td>0</td>\n",
              "      <td>0</td>\n",
              "      <td>0</td>\n",
              "      <td>0</td>\n",
              "    </tr>\n",
              "    <tr>\n",
              "      <th>2</th>\n",
              "      <td>506945</td>\n",
              "      <td>6582</td>\n",
              "      <td>10-Aug-06</td>\n",
              "      <td>0</td>\n",
              "      <td>0</td>\n",
              "      <td>0</td>\n",
              "      <td>0</td>\n",
              "      <td>0</td>\n",
              "    </tr>\n",
              "    <tr>\n",
              "      <th>3</th>\n",
              "      <td>497447</td>\n",
              "      <td>6551</td>\n",
              "      <td>27-Aug-06</td>\n",
              "      <td>0</td>\n",
              "      <td>0</td>\n",
              "      <td>0</td>\n",
              "      <td>0</td>\n",
              "      <td>0</td>\n",
              "    </tr>\n",
              "    <tr>\n",
              "      <th>4</th>\n",
              "      <td>496446</td>\n",
              "      <td>6533</td>\n",
              "      <td>19-Sep-06</td>\n",
              "      <td>0</td>\n",
              "      <td>0</td>\n",
              "      <td>0</td>\n",
              "      <td>0</td>\n",
              "      <td>0</td>\n",
              "    </tr>\n",
              "  </tbody>\n",
              "</table>\n",
              "</div>"
            ],
            "text/plain": [
              "   Patient_ID  Health_Camp_ID Registration_Date  Var1  Var2  Var3  Var4  Var5\n",
              "0      505701            6548         21-May-06     1     0     0     0     2\n",
              "1      500633            6584         02-Jun-06     0     0     0     0     0\n",
              "2      506945            6582         10-Aug-06     0     0     0     0     0\n",
              "3      497447            6551         27-Aug-06     0     0     0     0     0\n",
              "4      496446            6533         19-Sep-06     0     0     0     0     0"
            ]
          },
          "metadata": {
            "tags": []
          },
          "execution_count": 82
        }
      ]
    },
    {
      "cell_type": "code",
      "metadata": {
        "id": "LiSsyMmPmZrH",
        "colab_type": "code",
        "colab": {}
      },
      "source": [
        "third_df_filtered = third_df[third_df.Number_of_stall_visited!=0]"
      ],
      "execution_count": null,
      "outputs": []
    },
    {
      "cell_type": "code",
      "metadata": {
        "id": "1Pf3CKuOmZpE",
        "colab_type": "code",
        "colab": {
          "base_uri": "https://localhost:8080/",
          "height": 204
        },
        "outputId": "3f702b97-7a39-4177-de9b-2121792d9834"
      },
      "source": [
        "df = pd.concat([train_df,test_df],axis=0)\n",
        "df.head()"
      ],
      "execution_count": null,
      "outputs": [
        {
          "output_type": "execute_result",
          "data": {
            "text/html": [
              "<div>\n",
              "<style scoped>\n",
              "    .dataframe tbody tr th:only-of-type {\n",
              "        vertical-align: middle;\n",
              "    }\n",
              "\n",
              "    .dataframe tbody tr th {\n",
              "        vertical-align: top;\n",
              "    }\n",
              "\n",
              "    .dataframe thead th {\n",
              "        text-align: right;\n",
              "    }\n",
              "</style>\n",
              "<table border=\"1\" class=\"dataframe\">\n",
              "  <thead>\n",
              "    <tr style=\"text-align: right;\">\n",
              "      <th></th>\n",
              "      <th>Patient_ID</th>\n",
              "      <th>Health_Camp_ID</th>\n",
              "      <th>Registration_Date</th>\n",
              "      <th>Var1</th>\n",
              "      <th>Var2</th>\n",
              "      <th>Var3</th>\n",
              "      <th>Var4</th>\n",
              "      <th>Var5</th>\n",
              "    </tr>\n",
              "  </thead>\n",
              "  <tbody>\n",
              "    <tr>\n",
              "      <th>0</th>\n",
              "      <td>489652</td>\n",
              "      <td>6578</td>\n",
              "      <td>10-Sep-05</td>\n",
              "      <td>4</td>\n",
              "      <td>0</td>\n",
              "      <td>0</td>\n",
              "      <td>0</td>\n",
              "      <td>2</td>\n",
              "    </tr>\n",
              "    <tr>\n",
              "      <th>1</th>\n",
              "      <td>507246</td>\n",
              "      <td>6578</td>\n",
              "      <td>18-Aug-05</td>\n",
              "      <td>45</td>\n",
              "      <td>5</td>\n",
              "      <td>0</td>\n",
              "      <td>0</td>\n",
              "      <td>7</td>\n",
              "    </tr>\n",
              "    <tr>\n",
              "      <th>2</th>\n",
              "      <td>523729</td>\n",
              "      <td>6534</td>\n",
              "      <td>29-Apr-06</td>\n",
              "      <td>0</td>\n",
              "      <td>0</td>\n",
              "      <td>0</td>\n",
              "      <td>0</td>\n",
              "      <td>0</td>\n",
              "    </tr>\n",
              "    <tr>\n",
              "      <th>3</th>\n",
              "      <td>524931</td>\n",
              "      <td>6535</td>\n",
              "      <td>07-Feb-04</td>\n",
              "      <td>0</td>\n",
              "      <td>0</td>\n",
              "      <td>0</td>\n",
              "      <td>0</td>\n",
              "      <td>0</td>\n",
              "    </tr>\n",
              "    <tr>\n",
              "      <th>4</th>\n",
              "      <td>521364</td>\n",
              "      <td>6529</td>\n",
              "      <td>28-Feb-06</td>\n",
              "      <td>15</td>\n",
              "      <td>1</td>\n",
              "      <td>0</td>\n",
              "      <td>0</td>\n",
              "      <td>7</td>\n",
              "    </tr>\n",
              "  </tbody>\n",
              "</table>\n",
              "</div>"
            ],
            "text/plain": [
              "   Patient_ID  Health_Camp_ID Registration_Date  Var1  Var2  Var3  Var4  Var5\n",
              "0      489652            6578         10-Sep-05     4     0     0     0     2\n",
              "1      507246            6578         18-Aug-05    45     5     0     0     7\n",
              "2      523729            6534         29-Apr-06     0     0     0     0     0\n",
              "3      524931            6535         07-Feb-04     0     0     0     0     0\n",
              "4      521364            6529         28-Feb-06    15     1     0     0     7"
            ]
          },
          "metadata": {
            "tags": []
          },
          "execution_count": 84
        }
      ]
    },
    {
      "cell_type": "code",
      "metadata": {
        "id": "lroC9hFiQbz4",
        "colab_type": "code",
        "colab": {
          "base_uri": "https://localhost:8080/",
          "height": 289
        },
        "outputId": "18e644d0-471b-44ce-931e-e12eaf4af72c"
      },
      "source": [
        "temp = pd.merge(df,first_df,how='left', on=['Patient_ID','Health_Camp_ID'])\n",
        "temp.Health_Score.loc[~temp.Health_Score.isnull()] = 1\n",
        "temp.Health_Score.loc[temp.Health_Score.isnull()] = 0\n",
        "df = temp.rename(columns={'Health_Score':'succ_1'})\n",
        "\n",
        "temp = pd.merge(df,second_df,how='left', on=['Patient_ID','Health_Camp_ID'])\n",
        "temp['Health Score'].loc[~temp['Health Score'].isnull()] = 1\n",
        "temp['Health Score'].loc[temp['Health Score'].isnull()] = 0\n",
        "df = temp.rename(columns={'Health Score':'succ_2'})\n",
        "\n",
        "temp = pd.merge(df,third_df_filtered,how='left', on=['Patient_ID','Health_Camp_ID'])\n",
        "temp['Number_of_stall_visited'].loc[~temp['Number_of_stall_visited'].isnull()] = 1\n",
        "temp['Number_of_stall_visited'].loc[temp['Number_of_stall_visited'].isnull()] = 0\n",
        "df = temp.rename(columns={'Number_of_stall_visited':'succ_3'})\n",
        "df.head()"
      ],
      "execution_count": null,
      "outputs": [
        {
          "output_type": "stream",
          "text": [
            "/usr/local/lib/python3.6/dist-packages/pandas/core/indexing.py:671: SettingWithCopyWarning: \n",
            "A value is trying to be set on a copy of a slice from a DataFrame\n",
            "\n",
            "See the caveats in the documentation: https://pandas.pydata.org/pandas-docs/stable/user_guide/indexing.html#returning-a-view-versus-a-copy\n",
            "  self._setitem_with_indexer(indexer, value)\n"
          ],
          "name": "stderr"
        },
        {
          "output_type": "execute_result",
          "data": {
            "text/html": [
              "<div>\n",
              "<style scoped>\n",
              "    .dataframe tbody tr th:only-of-type {\n",
              "        vertical-align: middle;\n",
              "    }\n",
              "\n",
              "    .dataframe tbody tr th {\n",
              "        vertical-align: top;\n",
              "    }\n",
              "\n",
              "    .dataframe thead th {\n",
              "        text-align: right;\n",
              "    }\n",
              "</style>\n",
              "<table border=\"1\" class=\"dataframe\">\n",
              "  <thead>\n",
              "    <tr style=\"text-align: right;\">\n",
              "      <th></th>\n",
              "      <th>Patient_ID</th>\n",
              "      <th>Health_Camp_ID</th>\n",
              "      <th>Registration_Date</th>\n",
              "      <th>Var1</th>\n",
              "      <th>Var2</th>\n",
              "      <th>Var3</th>\n",
              "      <th>Var4</th>\n",
              "      <th>Var5</th>\n",
              "      <th>Donation</th>\n",
              "      <th>succ_1</th>\n",
              "      <th>Unnamed: 4</th>\n",
              "      <th>succ_2</th>\n",
              "      <th>succ_3</th>\n",
              "      <th>Last_Stall_Visited_Number</th>\n",
              "    </tr>\n",
              "  </thead>\n",
              "  <tbody>\n",
              "    <tr>\n",
              "      <th>0</th>\n",
              "      <td>489652</td>\n",
              "      <td>6578</td>\n",
              "      <td>10-Sep-05</td>\n",
              "      <td>4</td>\n",
              "      <td>0</td>\n",
              "      <td>0</td>\n",
              "      <td>0</td>\n",
              "      <td>2</td>\n",
              "      <td>NaN</td>\n",
              "      <td>0.0</td>\n",
              "      <td>NaN</td>\n",
              "      <td>0.0</td>\n",
              "      <td>1.0</td>\n",
              "      <td>1.0</td>\n",
              "    </tr>\n",
              "    <tr>\n",
              "      <th>1</th>\n",
              "      <td>507246</td>\n",
              "      <td>6578</td>\n",
              "      <td>18-Aug-05</td>\n",
              "      <td>45</td>\n",
              "      <td>5</td>\n",
              "      <td>0</td>\n",
              "      <td>0</td>\n",
              "      <td>7</td>\n",
              "      <td>NaN</td>\n",
              "      <td>0.0</td>\n",
              "      <td>NaN</td>\n",
              "      <td>0.0</td>\n",
              "      <td>0.0</td>\n",
              "      <td>NaN</td>\n",
              "    </tr>\n",
              "    <tr>\n",
              "      <th>2</th>\n",
              "      <td>523729</td>\n",
              "      <td>6534</td>\n",
              "      <td>29-Apr-06</td>\n",
              "      <td>0</td>\n",
              "      <td>0</td>\n",
              "      <td>0</td>\n",
              "      <td>0</td>\n",
              "      <td>0</td>\n",
              "      <td>NaN</td>\n",
              "      <td>0.0</td>\n",
              "      <td>NaN</td>\n",
              "      <td>1.0</td>\n",
              "      <td>0.0</td>\n",
              "      <td>NaN</td>\n",
              "    </tr>\n",
              "    <tr>\n",
              "      <th>3</th>\n",
              "      <td>524931</td>\n",
              "      <td>6535</td>\n",
              "      <td>07-Feb-04</td>\n",
              "      <td>0</td>\n",
              "      <td>0</td>\n",
              "      <td>0</td>\n",
              "      <td>0</td>\n",
              "      <td>0</td>\n",
              "      <td>NaN</td>\n",
              "      <td>0.0</td>\n",
              "      <td>NaN</td>\n",
              "      <td>0.0</td>\n",
              "      <td>0.0</td>\n",
              "      <td>NaN</td>\n",
              "    </tr>\n",
              "    <tr>\n",
              "      <th>4</th>\n",
              "      <td>521364</td>\n",
              "      <td>6529</td>\n",
              "      <td>28-Feb-06</td>\n",
              "      <td>15</td>\n",
              "      <td>1</td>\n",
              "      <td>0</td>\n",
              "      <td>0</td>\n",
              "      <td>7</td>\n",
              "      <td>NaN</td>\n",
              "      <td>0.0</td>\n",
              "      <td>NaN</td>\n",
              "      <td>1.0</td>\n",
              "      <td>0.0</td>\n",
              "      <td>NaN</td>\n",
              "    </tr>\n",
              "  </tbody>\n",
              "</table>\n",
              "</div>"
            ],
            "text/plain": [
              "   Patient_ID  Health_Camp_ID  ... succ_3  Last_Stall_Visited_Number\n",
              "0      489652            6578  ...    1.0                        1.0\n",
              "1      507246            6578  ...    0.0                        NaN\n",
              "2      523729            6534  ...    0.0                        NaN\n",
              "3      524931            6535  ...    0.0                        NaN\n",
              "4      521364            6529  ...    0.0                        NaN\n",
              "\n",
              "[5 rows x 14 columns]"
            ]
          },
          "metadata": {
            "tags": []
          },
          "execution_count": 85
        }
      ]
    },
    {
      "cell_type": "code",
      "metadata": {
        "id": "leuL-QRJT8dQ",
        "colab_type": "code",
        "colab": {}
      },
      "source": [
        "df.drop(['Donation','Unnamed: 4','Last_Stall_Visited_Number'],axis=1,inplace=True)"
      ],
      "execution_count": null,
      "outputs": []
    },
    {
      "cell_type": "code",
      "metadata": {
        "id": "DdiZaUwQbvPp",
        "colab_type": "code",
        "colab": {}
      },
      "source": [
        "df['Reg_year'] = pd.DatetimeIndex(df.Registration_Date).year\n",
        "df['Reg_month'] = pd.DatetimeIndex(df.Registration_Date).month\n",
        "df['Reg_day'] = pd.DatetimeIndex(df.Registration_Date).day"
      ],
      "execution_count": null,
      "outputs": []
    },
    {
      "cell_type": "code",
      "metadata": {
        "id": "2z0wvn79kyCE",
        "colab_type": "code",
        "colab": {}
      },
      "source": [
        "temp = pd.merge(df,patient_df,on='Patient_ID',how='left')\n",
        "df=temp\n",
        "temp = pd.merge(df,camp_df,on='Health_Camp_ID',how='left')\n",
        "df=temp"
      ],
      "execution_count": null,
      "outputs": []
    },
    {
      "cell_type": "code",
      "metadata": {
        "id": "t_4QpU1SlU5U",
        "colab_type": "code",
        "colab": {}
      },
      "source": [
        "df.drop(['Patient_ID','Health_Camp_ID','Registration_Date',],axis=1,inplace=True)"
      ],
      "execution_count": null,
      "outputs": []
    },
    {
      "cell_type": "code",
      "metadata": {
        "id": "cXqGphudmQEy",
        "colab_type": "code",
        "colab": {
          "base_uri": "https://localhost:8080/",
          "height": 357
        },
        "outputId": "d05e5cec-1708-4784-b575-c4a0a1957bb9"
      },
      "source": [
        "df.Income[df.Income=='None'] = 0\n",
        "df.Education_Score[df.Education_Score=='None'] = 0\n",
        "df.Age[df.Age=='None'] = 0\n",
        "df.Age = df.Age.astype('int64')\n",
        "df.Age[df.Age==0] = df.Age[df.Age!=0].mean()"
      ],
      "execution_count": null,
      "outputs": [
        {
          "output_type": "stream",
          "text": [
            "/usr/local/lib/python3.6/dist-packages/ipykernel_launcher.py:1: SettingWithCopyWarning: \n",
            "A value is trying to be set on a copy of a slice from a DataFrame\n",
            "\n",
            "See the caveats in the documentation: https://pandas.pydata.org/pandas-docs/stable/user_guide/indexing.html#returning-a-view-versus-a-copy\n",
            "  \"\"\"Entry point for launching an IPython kernel.\n",
            "/usr/local/lib/python3.6/dist-packages/ipykernel_launcher.py:2: SettingWithCopyWarning: \n",
            "A value is trying to be set on a copy of a slice from a DataFrame\n",
            "\n",
            "See the caveats in the documentation: https://pandas.pydata.org/pandas-docs/stable/user_guide/indexing.html#returning-a-view-versus-a-copy\n",
            "  \n",
            "/usr/local/lib/python3.6/dist-packages/ipykernel_launcher.py:3: SettingWithCopyWarning: \n",
            "A value is trying to be set on a copy of a slice from a DataFrame\n",
            "\n",
            "See the caveats in the documentation: https://pandas.pydata.org/pandas-docs/stable/user_guide/indexing.html#returning-a-view-versus-a-copy\n",
            "  This is separate from the ipykernel package so we can avoid doing imports until\n",
            "/usr/local/lib/python3.6/dist-packages/ipykernel_launcher.py:5: SettingWithCopyWarning: \n",
            "A value is trying to be set on a copy of a slice from a DataFrame\n",
            "\n",
            "See the caveats in the documentation: https://pandas.pydata.org/pandas-docs/stable/user_guide/indexing.html#returning-a-view-versus-a-copy\n",
            "  \"\"\"\n"
          ],
          "name": "stderr"
        }
      ]
    },
    {
      "cell_type": "code",
      "metadata": {
        "id": "GMHLa3cCr_e2",
        "colab_type": "code",
        "colab": {}
      },
      "source": [
        "df['fi_year'] = pd.DatetimeIndex(df.First_Interaction).year\n",
        "df['fi_month'] = pd.DatetimeIndex(df.First_Interaction).month\n",
        "df['fi_day'] = pd.DatetimeIndex(df.First_Interaction).day"
      ],
      "execution_count": null,
      "outputs": []
    },
    {
      "cell_type": "code",
      "metadata": {
        "id": "gb2zOPmOsTI7",
        "colab_type": "code",
        "colab": {}
      },
      "source": [
        "df.drop(['First_Interaction'],axis=1,inplace=True)"
      ],
      "execution_count": null,
      "outputs": []
    },
    {
      "cell_type": "code",
      "metadata": {
        "id": "wGaKwKs0sq47",
        "colab_type": "code",
        "colab": {}
      },
      "source": [
        "#temp = df.City_Type[~df.City_Type.isnull()].mode()\n",
        "df.City_Type = df.City_Type.replace(np.nan,'B')\n",
        "df.Employer_Category = df.Employer_Category.replace(np.nan,'Technology')"
      ],
      "execution_count": null,
      "outputs": []
    },
    {
      "cell_type": "code",
      "metadata": {
        "id": "ZhDMA64MwtN6",
        "colab_type": "code",
        "colab": {}
      },
      "source": [
        "temp = pd.to_datetime(df.Camp_End_Date) - pd.to_datetime(df.Camp_Start_Date)\n",
        "df['camp_days'] = temp.dt.days"
      ],
      "execution_count": null,
      "outputs": []
    },
    {
      "cell_type": "code",
      "metadata": {
        "id": "UInknGnPy4f4",
        "colab_type": "code",
        "colab": {}
      },
      "source": [
        "df.drop(['Camp_Start_Date', 'Camp_End_Date'],axis=1,inplace=True)\n",
        "from sklearn.preprocessing import LabelEncoder \n",
        "le = LabelEncoder() \n",
        "df['City_Type']= le.fit_transform(df['City_Type']) \n",
        "df['Category1']= le.fit_transform(df['Category1']) \n",
        "df['Category2']= le.fit_transform(df['Category2']) \n",
        "df['Employer_Category']= le.fit_transform(df['Employer_Category']) \n"
      ],
      "execution_count": null,
      "outputs": []
    },
    {
      "cell_type": "code",
      "metadata": {
        "id": "n4hqSUVZ09tE",
        "colab_type": "code",
        "colab": {}
      },
      "source": [
        "#temp = df.Reg_year[~df.Reg_year.isnull()].mode() = 2006\n",
        "df.Reg_year = df.Reg_year.replace(np.nan,2006)\n",
        "df.Reg_month = df.Reg_month.replace(np.nan,9)\n",
        "df.Reg_day = df.Reg_day.replace(np.nan,18)"
      ],
      "execution_count": null,
      "outputs": []
    },
    {
      "cell_type": "code",
      "metadata": {
        "id": "Dda8mIHU4RwB",
        "colab_type": "code",
        "colab": {}
      },
      "source": [
        "df['succ'] = df['succ_1'] + df['succ_2'] + df['succ_3']"
      ],
      "execution_count": null,
      "outputs": []
    },
    {
      "cell_type": "code",
      "metadata": {
        "id": "6gQ2OtZbCKcY",
        "colab_type": "code",
        "colab": {}
      },
      "source": [
        "y_train = df['succ'][:train_df.shape[0]]\n",
        "df.drop(['succ','succ_1','succ_2','succ_3'],axis=1,inplace = True)"
      ],
      "execution_count": null,
      "outputs": []
    },
    {
      "cell_type": "code",
      "metadata": {
        "id": "voXJu-DgmZmo",
        "colab_type": "code",
        "colab": {
          "base_uri": "https://localhost:8080/",
          "height": 224
        },
        "outputId": "be0a5ab6-bb38-46f0-e154-5370a360f44f"
      },
      "source": [
        "df.head()"
      ],
      "execution_count": null,
      "outputs": [
        {
          "output_type": "execute_result",
          "data": {
            "text/html": [
              "<div>\n",
              "<style scoped>\n",
              "    .dataframe tbody tr th:only-of-type {\n",
              "        vertical-align: middle;\n",
              "    }\n",
              "\n",
              "    .dataframe tbody tr th {\n",
              "        vertical-align: top;\n",
              "    }\n",
              "\n",
              "    .dataframe thead th {\n",
              "        text-align: right;\n",
              "    }\n",
              "</style>\n",
              "<table border=\"1\" class=\"dataframe\">\n",
              "  <thead>\n",
              "    <tr style=\"text-align: right;\">\n",
              "      <th></th>\n",
              "      <th>Var1</th>\n",
              "      <th>Var2</th>\n",
              "      <th>Var3</th>\n",
              "      <th>Var4</th>\n",
              "      <th>Var5</th>\n",
              "      <th>Reg_year</th>\n",
              "      <th>Reg_month</th>\n",
              "      <th>Reg_day</th>\n",
              "      <th>Online_Follower</th>\n",
              "      <th>LinkedIn_Shared</th>\n",
              "      <th>Twitter_Shared</th>\n",
              "      <th>Facebook_Shared</th>\n",
              "      <th>Income</th>\n",
              "      <th>Education_Score</th>\n",
              "      <th>Age</th>\n",
              "      <th>City_Type</th>\n",
              "      <th>Employer_Category</th>\n",
              "      <th>Category1</th>\n",
              "      <th>Category2</th>\n",
              "      <th>Category3</th>\n",
              "      <th>fi_year</th>\n",
              "      <th>fi_month</th>\n",
              "      <th>fi_day</th>\n",
              "      <th>camp_days</th>\n",
              "    </tr>\n",
              "  </thead>\n",
              "  <tbody>\n",
              "    <tr>\n",
              "      <th>0</th>\n",
              "      <td>4</td>\n",
              "      <td>0</td>\n",
              "      <td>0</td>\n",
              "      <td>0</td>\n",
              "      <td>2</td>\n",
              "      <td>2005.0</td>\n",
              "      <td>9.0</td>\n",
              "      <td>10.0</td>\n",
              "      <td>0</td>\n",
              "      <td>0</td>\n",
              "      <td>0</td>\n",
              "      <td>0</td>\n",
              "      <td>0</td>\n",
              "      <td>0</td>\n",
              "      <td>48.20876</td>\n",
              "      <td>1</td>\n",
              "      <td>11</td>\n",
              "      <td>2</td>\n",
              "      <td>6</td>\n",
              "      <td>2</td>\n",
              "      <td>2004</td>\n",
              "      <td>12</td>\n",
              "      <td>6</td>\n",
              "      <td>59</td>\n",
              "    </tr>\n",
              "    <tr>\n",
              "      <th>1</th>\n",
              "      <td>45</td>\n",
              "      <td>5</td>\n",
              "      <td>0</td>\n",
              "      <td>0</td>\n",
              "      <td>7</td>\n",
              "      <td>2005.0</td>\n",
              "      <td>8.0</td>\n",
              "      <td>18.0</td>\n",
              "      <td>0</td>\n",
              "      <td>0</td>\n",
              "      <td>0</td>\n",
              "      <td>0</td>\n",
              "      <td>1</td>\n",
              "      <td>75</td>\n",
              "      <td>40.00000</td>\n",
              "      <td>2</td>\n",
              "      <td>7</td>\n",
              "      <td>2</td>\n",
              "      <td>6</td>\n",
              "      <td>2</td>\n",
              "      <td>2004</td>\n",
              "      <td>9</td>\n",
              "      <td>8</td>\n",
              "      <td>59</td>\n",
              "    </tr>\n",
              "    <tr>\n",
              "      <th>2</th>\n",
              "      <td>0</td>\n",
              "      <td>0</td>\n",
              "      <td>0</td>\n",
              "      <td>0</td>\n",
              "      <td>0</td>\n",
              "      <td>2006.0</td>\n",
              "      <td>4.0</td>\n",
              "      <td>29.0</td>\n",
              "      <td>0</td>\n",
              "      <td>0</td>\n",
              "      <td>0</td>\n",
              "      <td>0</td>\n",
              "      <td>0</td>\n",
              "      <td>0</td>\n",
              "      <td>48.20876</td>\n",
              "      <td>1</td>\n",
              "      <td>11</td>\n",
              "      <td>1</td>\n",
              "      <td>0</td>\n",
              "      <td>2</td>\n",
              "      <td>2004</td>\n",
              "      <td>6</td>\n",
              "      <td>22</td>\n",
              "      <td>751</td>\n",
              "    </tr>\n",
              "    <tr>\n",
              "      <th>3</th>\n",
              "      <td>0</td>\n",
              "      <td>0</td>\n",
              "      <td>0</td>\n",
              "      <td>0</td>\n",
              "      <td>0</td>\n",
              "      <td>2004.0</td>\n",
              "      <td>2.0</td>\n",
              "      <td>7.0</td>\n",
              "      <td>0</td>\n",
              "      <td>0</td>\n",
              "      <td>0</td>\n",
              "      <td>0</td>\n",
              "      <td>0</td>\n",
              "      <td>0</td>\n",
              "      <td>48.20876</td>\n",
              "      <td>8</td>\n",
              "      <td>11</td>\n",
              "      <td>0</td>\n",
              "      <td>4</td>\n",
              "      <td>2</td>\n",
              "      <td>2004</td>\n",
              "      <td>2</td>\n",
              "      <td>7</td>\n",
              "      <td>17</td>\n",
              "    </tr>\n",
              "    <tr>\n",
              "      <th>4</th>\n",
              "      <td>15</td>\n",
              "      <td>1</td>\n",
              "      <td>0</td>\n",
              "      <td>0</td>\n",
              "      <td>7</td>\n",
              "      <td>2006.0</td>\n",
              "      <td>2.0</td>\n",
              "      <td>28.0</td>\n",
              "      <td>0</td>\n",
              "      <td>0</td>\n",
              "      <td>0</td>\n",
              "      <td>1</td>\n",
              "      <td>1</td>\n",
              "      <td>70</td>\n",
              "      <td>40.00000</td>\n",
              "      <td>8</td>\n",
              "      <td>11</td>\n",
              "      <td>1</td>\n",
              "      <td>0</td>\n",
              "      <td>2</td>\n",
              "      <td>2003</td>\n",
              "      <td>7</td>\n",
              "      <td>4</td>\n",
              "      <td>4</td>\n",
              "    </tr>\n",
              "  </tbody>\n",
              "</table>\n",
              "</div>"
            ],
            "text/plain": [
              "   Var1  Var2  Var3  Var4  ...  fi_year  fi_month  fi_day  camp_days\n",
              "0     4     0     0     0  ...     2004        12       6         59\n",
              "1    45     5     0     0  ...     2004         9       8         59\n",
              "2     0     0     0     0  ...     2004         6      22        751\n",
              "3     0     0     0     0  ...     2004         2       7         17\n",
              "4    15     1     0     0  ...     2003         7       4          4\n",
              "\n",
              "[5 rows x 24 columns]"
            ]
          },
          "metadata": {
            "tags": []
          },
          "execution_count": 99
        }
      ]
    },
    {
      "cell_type": "code",
      "metadata": {
        "id": "Urzgg-PVHZUg",
        "colab_type": "code",
        "colab": {}
      },
      "source": [
        "df.Income = df.Income.astype('int64')\n",
        "df.Education_Score = df.Education_Score.astype('float64')"
      ],
      "execution_count": null,
      "outputs": []
    },
    {
      "cell_type": "code",
      "metadata": {
        "id": "73yQNc81FzRM",
        "colab_type": "code",
        "colab": {}
      },
      "source": [
        "from sklearn.model_selection import train_test_split\n",
        "train = df[:train_df.shape[0]]\n",
        "label = y_train\n",
        "test = df[train_df.shape[0]:]\n",
        "X_train,X_val,y_train,y_val = train_test_split(train,y_train,test_size=0.3,random_state = 1994,stratify=y_train)"
      ],
      "execution_count": null,
      "outputs": []
    },
    {
      "cell_type": "code",
      "metadata": {
        "id": "tSnn2R2iFw9q",
        "colab_type": "code",
        "colab": {
          "base_uri": "https://localhost:8080/",
          "height": 204
        },
        "outputId": "18215be9-29f4-4ecb-95c2-8f5a0fc890f3"
      },
      "source": [
        "import lightgbm as gbm \n",
        "from lightgbm import *\n",
        "m=LGBMClassifier(n_estimators=1500,random_state=1994,learning_rate=0.03,reg_alpha=0.2,colsample_bytree=0.5,bagging_fraction=0.9)\n",
        "# m=RidgeCV(cv=4)\n",
        "m.fit(X_train,y_train,eval_set=[(X_train,y_train),(X_val, y_val.values)],eval_metric='auc', early_stopping_rounds=100,verbose=200)\n",
        "p=m.predict_proba(X_val)[:,-1]\n",
        "\n",
        "from sklearn.metrics import accuracy_score,confusion_matrix,roc_auc_score\n",
        "print(roc_auc_score(y_val,p))"
      ],
      "execution_count": null,
      "outputs": [
        {
          "output_type": "stream",
          "text": [
            "Training until validation scores don't improve for 100 rounds.\n",
            "[200]\ttraining's binary_logloss: 0.398499\ttraining's auc: 0.865976\tvalid_1's binary_logloss: 0.408856\tvalid_1's auc: 0.85526\n",
            "[400]\ttraining's binary_logloss: 0.383404\ttraining's auc: 0.877529\tvalid_1's binary_logloss: 0.403631\tvalid_1's auc: 0.858941\n",
            "[600]\ttraining's binary_logloss: 0.371912\ttraining's auc: 0.886284\tvalid_1's binary_logloss: 0.401036\tvalid_1's auc: 0.860899\n",
            "[800]\ttraining's binary_logloss: 0.362115\ttraining's auc: 0.893354\tvalid_1's binary_logloss: 0.399442\tvalid_1's auc: 0.86207\n",
            "[1000]\ttraining's binary_logloss: 0.353049\ttraining's auc: 0.89972\tvalid_1's binary_logloss: 0.398295\tvalid_1's auc: 0.863018\n",
            "[1200]\ttraining's binary_logloss: 0.344944\ttraining's auc: 0.905186\tvalid_1's binary_logloss: 0.397284\tvalid_1's auc: 0.863734\n",
            "[1400]\ttraining's binary_logloss: 0.337338\ttraining's auc: 0.91026\tvalid_1's binary_logloss: 0.396402\tvalid_1's auc: 0.864407\n",
            "Did not meet early stopping. Best iteration is:\n",
            "[1500]\ttraining's binary_logloss: 0.333857\ttraining's auc: 0.912494\tvalid_1's binary_logloss: 0.396237\tvalid_1's auc: 0.864517\n",
            "0.8645167024737319\n"
          ],
          "name": "stdout"
        }
      ]
    },
    {
      "cell_type": "code",
      "metadata": {
        "id": "GvWlUHF7JdMD",
        "colab_type": "code",
        "colab": {
          "base_uri": "https://localhost:8080/",
          "height": 68
        },
        "outputId": "0f81c8d9-ab09-40a8-b5d7-66e824cc58ec"
      },
      "source": [
        "m.feature_importances_"
      ],
      "execution_count": null,
      "outputs": [
        {
          "output_type": "execute_result",
          "data": {
            "text/plain": [
              "array([2008,  686,    0,  243, 1092, 1447, 4358, 4957,  215,  379,  232,\n",
              "        231, 1655, 2705, 3915, 2946, 1950,  887, 2013,   93, 1694, 3424,\n",
              "       4161, 3709])"
            ]
          },
          "metadata": {
            "tags": []
          },
          "execution_count": 104
        }
      ]
    },
    {
      "cell_type": "code",
      "metadata": {
        "id": "iUwcP_qpJfsa",
        "colab_type": "code",
        "colab": {
          "base_uri": "https://localhost:8080/",
          "height": 51
        },
        "outputId": "c0ebfe29-0d98-4161-b6b6-ef9e64641680"
      },
      "source": [
        "confusion_matrix(y_val,p>0.5)"
      ],
      "execution_count": null,
      "outputs": [
        {
          "output_type": "execute_result",
          "data": {
            "text/plain": [
              "array([[14948,  1476],\n",
              "       [ 2412,  3748]])"
            ]
          },
          "metadata": {
            "tags": []
          },
          "execution_count": 105
        }
      ]
    },
    {
      "cell_type": "code",
      "metadata": {
        "id": "WRaItoh8Jiiy",
        "colab_type": "code",
        "colab": {
          "base_uri": "https://localhost:8080/",
          "height": 425
        },
        "outputId": "64d97bc2-cfe9-4dc4-c505-9d940d200fb5"
      },
      "source": [
        "sorted(zip(m.feature_importances_,X_train),reverse=True)"
      ],
      "execution_count": null,
      "outputs": [
        {
          "output_type": "execute_result",
          "data": {
            "text/plain": [
              "[(4957, 'Reg_day'),\n",
              " (4358, 'Reg_month'),\n",
              " (4161, 'fi_day'),\n",
              " (3915, 'Age'),\n",
              " (3709, 'camp_days'),\n",
              " (3424, 'fi_month'),\n",
              " (2946, 'City_Type'),\n",
              " (2705, 'Education_Score'),\n",
              " (2013, 'Category2'),\n",
              " (2008, 'Var1'),\n",
              " (1950, 'Employer_Category'),\n",
              " (1694, 'fi_year'),\n",
              " (1655, 'Income'),\n",
              " (1447, 'Reg_year'),\n",
              " (1092, 'Var5'),\n",
              " (887, 'Category1'),\n",
              " (686, 'Var2'),\n",
              " (379, 'LinkedIn_Shared'),\n",
              " (243, 'Var4'),\n",
              " (232, 'Twitter_Shared'),\n",
              " (231, 'Facebook_Shared'),\n",
              " (215, 'Online_Follower'),\n",
              " (93, 'Category3'),\n",
              " (0, 'Var3')]"
            ]
          },
          "metadata": {
            "tags": []
          },
          "execution_count": 106
        }
      ]
    },
    {
      "cell_type": "code",
      "metadata": {
        "id": "NDKOV6FnpWVK",
        "colab_type": "code",
        "colab": {
          "base_uri": "https://localhost:8080/",
          "height": 1000
        },
        "outputId": "cdbb5dfc-9107-440d-f79f-545d97ec9e70"
      },
      "source": [
        "err=[]\n",
        "y_pred_tot=[]\n",
        "\n",
        "feature_importance_df = pd.DataFrame()\n",
        "X = df[:train_df.shape[0]]\n",
        "y = label\n",
        "\n",
        "from sklearn.model_selection import KFold,StratifiedKFold\n",
        "fold=StratifiedKFold(n_splits=10,shuffle=True,random_state=1994)\n",
        "i=1\n",
        "for train_index, test_index in fold.split(X,y):\n",
        "    X_train, X_test = X.iloc[train_index], X.iloc[test_index]\n",
        "    y_train, y_test = y[train_index], y[test_index]\n",
        "    m=LGBMClassifier(n_estimators=5000,random_state=1994,learning_rate=0.03,reg_alpha=0.2,colsample_bytree=0.5)\n",
        "    m.fit(X_train,y_train,eval_set=[(X_train,y_train),(X_test, y_test)],eval_metric='auc', early_stopping_rounds=200,verbose=200)\n",
        "    \n",
        "    preds=m.predict_proba(X_test,num_iteration=m.best_iteration_)[:,-1]\n",
        "    \n",
        "    fold_importance_df = pd.DataFrame()\n",
        "    fold_importance_df[\"feature\"] = X_train.columns\n",
        "    fold_importance_df[\"importance\"] = m.feature_importances_\n",
        "    fold_importance_df[\"fold\"] = i + 1\n",
        "    feature_importance_df = pd.concat([feature_importance_df, fold_importance_df], axis=0)\n",
        "    \n",
        "    \n",
        "    print(\"err: \",roc_auc_score(y_test,preds))\n",
        "    err.append(roc_auc_score(y_test,preds))\n",
        "    p = m.predict_proba(test)[:,-1]\n",
        "    i=i+1\n",
        "    y_pred_tot.append(p)"
      ],
      "execution_count": null,
      "outputs": [
        {
          "output_type": "stream",
          "text": [
            "Training until validation scores don't improve for 200 rounds.\n",
            "[200]\ttraining's binary_logloss: 0.400721\ttraining's auc: 0.86359\tvalid_1's binary_logloss: 0.406856\tvalid_1's auc: 0.858657\n",
            "[400]\ttraining's binary_logloss: 0.386117\ttraining's auc: 0.874723\tvalid_1's binary_logloss: 0.401007\tvalid_1's auc: 0.862679\n",
            "[600]\ttraining's binary_logloss: 0.375468\ttraining's auc: 0.882781\tvalid_1's binary_logloss: 0.398043\tvalid_1's auc: 0.865038\n",
            "[800]\ttraining's binary_logloss: 0.36635\ttraining's auc: 0.889642\tvalid_1's binary_logloss: 0.395895\tvalid_1's auc: 0.866788\n",
            "[1000]\ttraining's binary_logloss: 0.35829\ttraining's auc: 0.895445\tvalid_1's binary_logloss: 0.394514\tvalid_1's auc: 0.867857\n",
            "[1200]\ttraining's binary_logloss: 0.35135\ttraining's auc: 0.90025\tvalid_1's binary_logloss: 0.393725\tvalid_1's auc: 0.868463\n",
            "[1400]\ttraining's binary_logloss: 0.344989\ttraining's auc: 0.90458\tvalid_1's binary_logloss: 0.393276\tvalid_1's auc: 0.868907\n",
            "[1600]\ttraining's binary_logloss: 0.338448\ttraining's auc: 0.908847\tvalid_1's binary_logloss: 0.392145\tvalid_1's auc: 0.869786\n",
            "[1800]\ttraining's binary_logloss: 0.332809\ttraining's auc: 0.912455\tvalid_1's binary_logloss: 0.391751\tvalid_1's auc: 0.870108\n",
            "[2000]\ttraining's binary_logloss: 0.327677\ttraining's auc: 0.915697\tvalid_1's binary_logloss: 0.391615\tvalid_1's auc: 0.870141\n",
            "[2200]\ttraining's binary_logloss: 0.322526\ttraining's auc: 0.918907\tvalid_1's binary_logloss: 0.390908\tvalid_1's auc: 0.870672\n",
            "[2400]\ttraining's binary_logloss: 0.317849\ttraining's auc: 0.921755\tvalid_1's binary_logloss: 0.390242\tvalid_1's auc: 0.871117\n",
            "[2600]\ttraining's binary_logloss: 0.313425\ttraining's auc: 0.92441\tvalid_1's binary_logloss: 0.389902\tvalid_1's auc: 0.871337\n",
            "[2800]\ttraining's binary_logloss: 0.308953\ttraining's auc: 0.927112\tvalid_1's binary_logloss: 0.389643\tvalid_1's auc: 0.871475\n",
            "[3000]\ttraining's binary_logloss: 0.304833\ttraining's auc: 0.9295\tvalid_1's binary_logloss: 0.389507\tvalid_1's auc: 0.871562\n",
            "[3200]\ttraining's binary_logloss: 0.301\ttraining's auc: 0.931639\tvalid_1's binary_logloss: 0.389575\tvalid_1's auc: 0.87157\n",
            "[3400]\ttraining's binary_logloss: 0.297004\ttraining's auc: 0.933873\tvalid_1's binary_logloss: 0.389573\tvalid_1's auc: 0.871603\n",
            "Early stopping, best iteration is:\n",
            "[3341]\ttraining's binary_logloss: 0.298178\ttraining's auc: 0.933208\tvalid_1's binary_logloss: 0.389392\tvalid_1's auc: 0.871703\n",
            "err:  0.8717029231573243\n",
            "Training until validation scores don't improve for 200 rounds.\n",
            "[200]\ttraining's binary_logloss: 0.399718\ttraining's auc: 0.864391\tvalid_1's binary_logloss: 0.412536\tvalid_1's auc: 0.851349\n",
            "[400]\ttraining's binary_logloss: 0.385343\ttraining's auc: 0.875434\tvalid_1's binary_logloss: 0.406795\tvalid_1's auc: 0.85572\n",
            "[600]\ttraining's binary_logloss: 0.37467\ttraining's auc: 0.883506\tvalid_1's binary_logloss: 0.403554\tvalid_1's auc: 0.858327\n",
            "[800]\ttraining's binary_logloss: 0.365773\ttraining's auc: 0.890206\tvalid_1's binary_logloss: 0.401567\tvalid_1's auc: 0.85989\n",
            "[1000]\ttraining's binary_logloss: 0.358003\ttraining's auc: 0.895805\tvalid_1's binary_logloss: 0.400091\tvalid_1's auc: 0.861041\n",
            "[1200]\ttraining's binary_logloss: 0.350985\ttraining's auc: 0.90068\tvalid_1's binary_logloss: 0.399076\tvalid_1's auc: 0.861828\n",
            "[1400]\ttraining's binary_logloss: 0.344652\ttraining's auc: 0.904962\tvalid_1's binary_logloss: 0.398389\tvalid_1's auc: 0.862314\n",
            "[1600]\ttraining's binary_logloss: 0.338773\ttraining's auc: 0.908809\tvalid_1's binary_logloss: 0.398019\tvalid_1's auc: 0.862577\n",
            "[1800]\ttraining's binary_logloss: 0.332902\ttraining's auc: 0.91251\tvalid_1's binary_logloss: 0.397066\tvalid_1's auc: 0.863299\n",
            "[2000]\ttraining's binary_logloss: 0.327795\ttraining's auc: 0.915714\tvalid_1's binary_logloss: 0.396929\tvalid_1's auc: 0.86351\n",
            "[2200]\ttraining's binary_logloss: 0.322892\ttraining's auc: 0.918808\tvalid_1's binary_logloss: 0.396282\tvalid_1's auc: 0.864129\n",
            "[2400]\ttraining's binary_logloss: 0.318295\ttraining's auc: 0.921611\tvalid_1's binary_logloss: 0.396143\tvalid_1's auc: 0.86429\n",
            "Early stopping, best iteration is:\n",
            "[2390]\ttraining's binary_logloss: 0.3185\ttraining's auc: 0.921489\tvalid_1's binary_logloss: 0.396087\tvalid_1's auc: 0.864317\n",
            "err:  0.8643171632990015\n",
            "Training until validation scores don't improve for 200 rounds.\n",
            "[200]\ttraining's binary_logloss: 0.400383\ttraining's auc: 0.864052\tvalid_1's binary_logloss: 0.407466\tvalid_1's auc: 0.85676\n",
            "[400]\ttraining's binary_logloss: 0.385969\ttraining's auc: 0.875253\tvalid_1's binary_logloss: 0.400924\tvalid_1's auc: 0.861498\n",
            "[600]\ttraining's binary_logloss: 0.375598\ttraining's auc: 0.883096\tvalid_1's binary_logloss: 0.397502\tvalid_1's auc: 0.864075\n",
            "[800]\ttraining's binary_logloss: 0.366758\ttraining's auc: 0.889477\tvalid_1's binary_logloss: 0.395194\tvalid_1's auc: 0.865754\n",
            "[1000]\ttraining's binary_logloss: 0.358767\ttraining's auc: 0.895175\tvalid_1's binary_logloss: 0.393269\tvalid_1's auc: 0.867195\n",
            "[1200]\ttraining's binary_logloss: 0.351642\ttraining's auc: 0.900183\tvalid_1's binary_logloss: 0.392028\tvalid_1's auc: 0.868163\n",
            "[1400]\ttraining's binary_logloss: 0.345098\ttraining's auc: 0.904571\tvalid_1's binary_logloss: 0.390937\tvalid_1's auc: 0.868873\n",
            "[1600]\ttraining's binary_logloss: 0.339193\ttraining's auc: 0.908512\tvalid_1's binary_logloss: 0.390137\tvalid_1's auc: 0.869515\n",
            "[1800]\ttraining's binary_logloss: 0.333482\ttraining's auc: 0.912196\tvalid_1's binary_logloss: 0.389657\tvalid_1's auc: 0.869768\n",
            "[2000]\ttraining's binary_logloss: 0.32819\ttraining's auc: 0.915517\tvalid_1's binary_logloss: 0.389297\tvalid_1's auc: 0.870049\n",
            "[2200]\ttraining's binary_logloss: 0.323223\ttraining's auc: 0.918591\tvalid_1's binary_logloss: 0.389075\tvalid_1's auc: 0.870235\n",
            "[2400]\ttraining's binary_logloss: 0.318359\ttraining's auc: 0.921541\tvalid_1's binary_logloss: 0.388973\tvalid_1's auc: 0.870251\n",
            "Early stopping, best iteration is:\n",
            "[2290]\ttraining's binary_logloss: 0.321063\ttraining's auc: 0.919894\tvalid_1's binary_logloss: 0.38882\tvalid_1's auc: 0.870374\n",
            "err:  0.8703738999515814\n",
            "Training until validation scores don't improve for 200 rounds.\n",
            "[200]\ttraining's binary_logloss: 0.39919\ttraining's auc: 0.864707\tvalid_1's binary_logloss: 0.417095\tvalid_1's auc: 0.848527\n",
            "[400]\ttraining's binary_logloss: 0.384957\ttraining's auc: 0.875657\tvalid_1's binary_logloss: 0.411746\tvalid_1's auc: 0.852722\n",
            "[600]\ttraining's binary_logloss: 0.374496\ttraining's auc: 0.883677\tvalid_1's binary_logloss: 0.408962\tvalid_1's auc: 0.85501\n",
            "[800]\ttraining's binary_logloss: 0.365243\ttraining's auc: 0.890496\tvalid_1's binary_logloss: 0.407121\tvalid_1's auc: 0.856572\n",
            "[1000]\ttraining's binary_logloss: 0.357463\ttraining's auc: 0.895997\tvalid_1's binary_logloss: 0.405801\tvalid_1's auc: 0.857544\n",
            "[1200]\ttraining's binary_logloss: 0.350062\ttraining's auc: 0.901073\tvalid_1's binary_logloss: 0.404415\tvalid_1's auc: 0.858602\n",
            "[1400]\ttraining's binary_logloss: 0.343269\ttraining's auc: 0.905693\tvalid_1's binary_logloss: 0.403461\tvalid_1's auc: 0.859398\n",
            "[1600]\ttraining's binary_logloss: 0.337252\ttraining's auc: 0.909579\tvalid_1's binary_logloss: 0.402506\tvalid_1's auc: 0.860187\n",
            "[1800]\ttraining's binary_logloss: 0.331304\ttraining's auc: 0.913483\tvalid_1's binary_logloss: 0.401635\tvalid_1's auc: 0.860953\n",
            "[2000]\ttraining's binary_logloss: 0.326019\ttraining's auc: 0.916796\tvalid_1's binary_logloss: 0.400953\tvalid_1's auc: 0.861544\n",
            "[2200]\ttraining's binary_logloss: 0.321001\ttraining's auc: 0.919901\tvalid_1's binary_logloss: 0.400435\tvalid_1's auc: 0.861993\n",
            "[2400]\ttraining's binary_logloss: 0.316175\ttraining's auc: 0.922787\tvalid_1's binary_logloss: 0.400138\tvalid_1's auc: 0.862256\n",
            "[2600]\ttraining's binary_logloss: 0.311502\ttraining's auc: 0.925534\tvalid_1's binary_logloss: 0.399784\tvalid_1's auc: 0.862612\n",
            "[2800]\ttraining's binary_logloss: 0.307176\ttraining's auc: 0.928029\tvalid_1's binary_logloss: 0.399631\tvalid_1's auc: 0.862751\n",
            "[3000]\ttraining's binary_logloss: 0.303048\ttraining's auc: 0.930359\tvalid_1's binary_logloss: 0.399516\tvalid_1's auc: 0.862907\n",
            "[3200]\ttraining's binary_logloss: 0.299102\ttraining's auc: 0.932598\tvalid_1's binary_logloss: 0.39947\tvalid_1's auc: 0.862954\n",
            "Early stopping, best iteration is:\n",
            "[3098]\ttraining's binary_logloss: 0.30119\ttraining's auc: 0.931394\tvalid_1's binary_logloss: 0.399375\tvalid_1's auc: 0.863015\n",
            "err:  0.8630146440693884\n",
            "Training until validation scores don't improve for 200 rounds.\n",
            "[200]\ttraining's binary_logloss: 0.400746\ttraining's auc: 0.863728\tvalid_1's binary_logloss: 0.408668\tvalid_1's auc: 0.855301\n",
            "[400]\ttraining's binary_logloss: 0.385943\ttraining's auc: 0.875181\tvalid_1's binary_logloss: 0.40218\tvalid_1's auc: 0.86001\n",
            "[600]\ttraining's binary_logloss: 0.375261\ttraining's auc: 0.883275\tvalid_1's binary_logloss: 0.398626\tvalid_1's auc: 0.862653\n",
            "[800]\ttraining's binary_logloss: 0.366538\ttraining's auc: 0.88976\tvalid_1's binary_logloss: 0.396377\tvalid_1's auc: 0.864353\n",
            "[1000]\ttraining's binary_logloss: 0.358563\ttraining's auc: 0.895401\tvalid_1's binary_logloss: 0.394824\tvalid_1's auc: 0.865549\n",
            "[1200]\ttraining's binary_logloss: 0.351648\ttraining's auc: 0.900172\tvalid_1's binary_logloss: 0.39363\tvalid_1's auc: 0.866564\n",
            "[1400]\ttraining's binary_logloss: 0.345274\ttraining's auc: 0.904536\tvalid_1's binary_logloss: 0.392368\tvalid_1's auc: 0.86761\n",
            "[1600]\ttraining's binary_logloss: 0.339243\ttraining's auc: 0.90849\tvalid_1's binary_logloss: 0.391318\tvalid_1's auc: 0.868413\n",
            "[1800]\ttraining's binary_logloss: 0.333696\ttraining's auc: 0.91213\tvalid_1's binary_logloss: 0.390719\tvalid_1's auc: 0.868972\n",
            "[2000]\ttraining's binary_logloss: 0.328358\ttraining's auc: 0.915465\tvalid_1's binary_logloss: 0.389939\tvalid_1's auc: 0.869589\n",
            "[2200]\ttraining's binary_logloss: 0.323406\ttraining's auc: 0.918547\tvalid_1's binary_logloss: 0.38961\tvalid_1's auc: 0.869869\n",
            "Early stopping, best iteration is:\n",
            "[2125]\ttraining's binary_logloss: 0.325164\ttraining's auc: 0.91748\tvalid_1's binary_logloss: 0.389454\tvalid_1's auc: 0.870007\n",
            "err:  0.8700069171520906\n",
            "Training until validation scores don't improve for 200 rounds.\n",
            "[200]\ttraining's binary_logloss: 0.399984\ttraining's auc: 0.864203\tvalid_1's binary_logloss: 0.408908\tvalid_1's auc: 0.855735\n",
            "[400]\ttraining's binary_logloss: 0.3852\ttraining's auc: 0.875627\tvalid_1's binary_logloss: 0.403017\tvalid_1's auc: 0.860109\n",
            "[600]\ttraining's binary_logloss: 0.374783\ttraining's auc: 0.88359\tvalid_1's binary_logloss: 0.399672\tvalid_1's auc: 0.862775\n",
            "[800]\ttraining's binary_logloss: 0.366404\ttraining's auc: 0.889682\tvalid_1's binary_logloss: 0.397686\tvalid_1's auc: 0.864301\n",
            "[1000]\ttraining's binary_logloss: 0.35869\ttraining's auc: 0.895145\tvalid_1's binary_logloss: 0.395851\tvalid_1's auc: 0.865683\n",
            "[1200]\ttraining's binary_logloss: 0.352133\ttraining's auc: 0.899724\tvalid_1's binary_logloss: 0.394675\tvalid_1's auc: 0.866526\n",
            "[1400]\ttraining's binary_logloss: 0.345473\ttraining's auc: 0.904232\tvalid_1's binary_logloss: 0.393349\tvalid_1's auc: 0.867492\n",
            "[1600]\ttraining's binary_logloss: 0.339115\ttraining's auc: 0.908479\tvalid_1's binary_logloss: 0.392028\tvalid_1's auc: 0.86853\n",
            "[1800]\ttraining's binary_logloss: 0.33339\ttraining's auc: 0.91216\tvalid_1's binary_logloss: 0.391053\tvalid_1's auc: 0.869174\n",
            "[2000]\ttraining's binary_logloss: 0.327935\ttraining's auc: 0.915596\tvalid_1's binary_logloss: 0.389947\tvalid_1's auc: 0.870061\n",
            "[2200]\ttraining's binary_logloss: 0.322933\ttraining's auc: 0.918679\tvalid_1's binary_logloss: 0.389455\tvalid_1's auc: 0.87031\n",
            "[2400]\ttraining's binary_logloss: 0.318244\ttraining's auc: 0.92156\tvalid_1's binary_logloss: 0.389331\tvalid_1's auc: 0.870428\n",
            "[2600]\ttraining's binary_logloss: 0.313827\ttraining's auc: 0.924225\tvalid_1's binary_logloss: 0.38913\tvalid_1's auc: 0.870596\n",
            "[2800]\ttraining's binary_logloss: 0.309464\ttraining's auc: 0.926788\tvalid_1's binary_logloss: 0.388798\tvalid_1's auc: 0.870921\n",
            "[3000]\ttraining's binary_logloss: 0.3054\ttraining's auc: 0.929127\tvalid_1's binary_logloss: 0.388754\tvalid_1's auc: 0.871049\n",
            "[3200]\ttraining's binary_logloss: 0.30151\ttraining's auc: 0.931303\tvalid_1's binary_logloss: 0.388628\tvalid_1's auc: 0.871133\n",
            "[3400]\ttraining's binary_logloss: 0.297555\ttraining's auc: 0.933534\tvalid_1's binary_logloss: 0.3885\tvalid_1's auc: 0.87124\n",
            "Early stopping, best iteration is:\n",
            "[3367]\ttraining's binary_logloss: 0.298191\ttraining's auc: 0.933164\tvalid_1's binary_logloss: 0.388352\tvalid_1's auc: 0.871359\n",
            "err:  0.8713586309821688\n",
            "Training until validation scores don't improve for 200 rounds.\n",
            "[200]\ttraining's binary_logloss: 0.399968\ttraining's auc: 0.864171\tvalid_1's binary_logloss: 0.412013\tvalid_1's auc: 0.854193\n",
            "[400]\ttraining's binary_logloss: 0.385241\ttraining's auc: 0.875453\tvalid_1's binary_logloss: 0.405523\tvalid_1's auc: 0.858832\n",
            "[600]\ttraining's binary_logloss: 0.374681\ttraining's auc: 0.883356\tvalid_1's binary_logloss: 0.402378\tvalid_1's auc: 0.860967\n",
            "[800]\ttraining's binary_logloss: 0.365703\ttraining's auc: 0.889979\tvalid_1's binary_logloss: 0.400221\tvalid_1's auc: 0.862587\n",
            "[1000]\ttraining's binary_logloss: 0.358103\ttraining's auc: 0.895442\tvalid_1's binary_logloss: 0.398816\tvalid_1's auc: 0.863733\n",
            "[1200]\ttraining's binary_logloss: 0.351339\ttraining's auc: 0.900277\tvalid_1's binary_logloss: 0.397858\tvalid_1's auc: 0.864524\n",
            "[1400]\ttraining's binary_logloss: 0.344918\ttraining's auc: 0.904639\tvalid_1's binary_logloss: 0.396882\tvalid_1's auc: 0.865275\n",
            "[1600]\ttraining's binary_logloss: 0.338991\ttraining's auc: 0.908601\tvalid_1's binary_logloss: 0.396351\tvalid_1's auc: 0.865657\n",
            "[1800]\ttraining's binary_logloss: 0.332995\ttraining's auc: 0.912497\tvalid_1's binary_logloss: 0.396006\tvalid_1's auc: 0.866004\n",
            "[2000]\ttraining's binary_logloss: 0.327893\ttraining's auc: 0.915765\tvalid_1's binary_logloss: 0.395898\tvalid_1's auc: 0.866132\n",
            "[2200]\ttraining's binary_logloss: 0.322593\ttraining's auc: 0.919032\tvalid_1's binary_logloss: 0.395298\tvalid_1's auc: 0.866749\n",
            "[2400]\ttraining's binary_logloss: 0.317879\ttraining's auc: 0.92187\tvalid_1's binary_logloss: 0.395083\tvalid_1's auc: 0.867024\n",
            "[2600]\ttraining's binary_logloss: 0.313029\ttraining's auc: 0.924839\tvalid_1's binary_logloss: 0.395107\tvalid_1's auc: 0.867155\n",
            "Early stopping, best iteration is:\n",
            "[2479]\ttraining's binary_logloss: 0.316113\ttraining's auc: 0.922953\tvalid_1's binary_logloss: 0.394939\tvalid_1's auc: 0.867234\n",
            "err:  0.8672340510712689\n",
            "Training until validation scores don't improve for 200 rounds.\n",
            "[200]\ttraining's binary_logloss: 0.400985\ttraining's auc: 0.86368\tvalid_1's binary_logloss: 0.406989\tvalid_1's auc: 0.856373\n",
            "[400]\ttraining's binary_logloss: 0.386579\ttraining's auc: 0.874818\tvalid_1's binary_logloss: 0.400201\tvalid_1's auc: 0.86125\n",
            "[600]\ttraining's binary_logloss: 0.376356\ttraining's auc: 0.88268\tvalid_1's binary_logloss: 0.397047\tvalid_1's auc: 0.863621\n",
            "[800]\ttraining's binary_logloss: 0.367068\ttraining's auc: 0.889625\tvalid_1's binary_logloss: 0.394167\tvalid_1's auc: 0.865784\n",
            "[1000]\ttraining's binary_logloss: 0.35926\ttraining's auc: 0.895185\tvalid_1's binary_logloss: 0.392659\tvalid_1's auc: 0.866838\n",
            "[1200]\ttraining's binary_logloss: 0.352383\ttraining's auc: 0.899974\tvalid_1's binary_logloss: 0.391335\tvalid_1's auc: 0.86772\n",
            "[1400]\ttraining's binary_logloss: 0.345537\ttraining's auc: 0.90467\tvalid_1's binary_logloss: 0.390059\tvalid_1's auc: 0.868683\n",
            "[1600]\ttraining's binary_logloss: 0.339496\ttraining's auc: 0.908576\tvalid_1's binary_logloss: 0.388985\tvalid_1's auc: 0.869407\n",
            "[1800]\ttraining's binary_logloss: 0.333607\ttraining's auc: 0.912442\tvalid_1's binary_logloss: 0.388159\tvalid_1's auc: 0.87003\n",
            "[2000]\ttraining's binary_logloss: 0.328473\ttraining's auc: 0.915648\tvalid_1's binary_logloss: 0.387932\tvalid_1's auc: 0.870125\n",
            "[2200]\ttraining's binary_logloss: 0.323532\ttraining's auc: 0.918638\tvalid_1's binary_logloss: 0.387537\tvalid_1's auc: 0.870384\n",
            "[2400]\ttraining's binary_logloss: 0.31898\ttraining's auc: 0.921383\tvalid_1's binary_logloss: 0.387554\tvalid_1's auc: 0.870333\n",
            "Early stopping, best iteration is:\n",
            "[2220]\ttraining's binary_logloss: 0.323072\ttraining's auc: 0.91891\tvalid_1's binary_logloss: 0.387475\tvalid_1's auc: 0.870457\n",
            "err:  0.8704573104956106\n",
            "Training until validation scores don't improve for 200 rounds.\n",
            "[200]\ttraining's binary_logloss: 0.400886\ttraining's auc: 0.86331\tvalid_1's binary_logloss: 0.404879\tvalid_1's auc: 0.860857\n",
            "[400]\ttraining's binary_logloss: 0.386624\ttraining's auc: 0.87448\tvalid_1's binary_logloss: 0.398247\tvalid_1's auc: 0.865468\n",
            "[600]\ttraining's binary_logloss: 0.376069\ttraining's auc: 0.882411\tvalid_1's binary_logloss: 0.394974\tvalid_1's auc: 0.867752\n",
            "[800]\ttraining's binary_logloss: 0.36715\ttraining's auc: 0.888985\tvalid_1's binary_logloss: 0.39282\tvalid_1's auc: 0.869276\n",
            "[1000]\ttraining's binary_logloss: 0.359413\ttraining's auc: 0.894512\tvalid_1's binary_logloss: 0.391525\tvalid_1's auc: 0.870238\n",
            "[1200]\ttraining's binary_logloss: 0.352304\ttraining's auc: 0.899568\tvalid_1's binary_logloss: 0.390285\tvalid_1's auc: 0.87106\n",
            "[1400]\ttraining's binary_logloss: 0.345653\ttraining's auc: 0.904085\tvalid_1's binary_logloss: 0.388802\tvalid_1's auc: 0.872204\n",
            "[1600]\ttraining's binary_logloss: 0.339586\ttraining's auc: 0.908021\tvalid_1's binary_logloss: 0.387869\tvalid_1's auc: 0.872905\n",
            "[1800]\ttraining's binary_logloss: 0.333498\ttraining's auc: 0.912026\tvalid_1's binary_logloss: 0.387034\tvalid_1's auc: 0.873539\n",
            "[2000]\ttraining's binary_logloss: 0.32825\ttraining's auc: 0.915331\tvalid_1's binary_logloss: 0.38623\tvalid_1's auc: 0.874075\n",
            "[2200]\ttraining's binary_logloss: 0.323195\ttraining's auc: 0.918446\tvalid_1's binary_logloss: 0.385614\tvalid_1's auc: 0.874416\n",
            "[2400]\ttraining's binary_logloss: 0.31848\ttraining's auc: 0.921338\tvalid_1's binary_logloss: 0.385122\tvalid_1's auc: 0.874674\n",
            "[2600]\ttraining's binary_logloss: 0.313886\ttraining's auc: 0.924076\tvalid_1's binary_logloss: 0.385046\tvalid_1's auc: 0.87464\n",
            "Early stopping, best iteration is:\n",
            "[2419]\ttraining's binary_logloss: 0.317976\ttraining's auc: 0.921658\tvalid_1's binary_logloss: 0.38499\tvalid_1's auc: 0.874792\n",
            "err:  0.8747922918081864\n",
            "Training until validation scores don't improve for 200 rounds.\n",
            "[200]\ttraining's binary_logloss: 0.401385\ttraining's auc: 0.863237\tvalid_1's binary_logloss: 0.400271\tvalid_1's auc: 0.864325\n",
            "[400]\ttraining's binary_logloss: 0.387009\ttraining's auc: 0.874286\tvalid_1's binary_logloss: 0.395663\tvalid_1's auc: 0.867102\n",
            "[600]\ttraining's binary_logloss: 0.376707\ttraining's auc: 0.882114\tvalid_1's binary_logloss: 0.392945\tvalid_1's auc: 0.868931\n",
            "[800]\ttraining's binary_logloss: 0.367637\ttraining's auc: 0.888883\tvalid_1's binary_logloss: 0.3911\tvalid_1's auc: 0.870133\n",
            "[1000]\ttraining's binary_logloss: 0.359875\ttraining's auc: 0.894342\tvalid_1's binary_logloss: 0.38914\tvalid_1's auc: 0.871478\n",
            "[1200]\ttraining's binary_logloss: 0.352443\ttraining's auc: 0.899489\tvalid_1's binary_logloss: 0.387578\tvalid_1's auc: 0.872477\n",
            "[1400]\ttraining's binary_logloss: 0.345841\ttraining's auc: 0.904067\tvalid_1's binary_logloss: 0.38675\tvalid_1's auc: 0.873028\n",
            "[1600]\ttraining's binary_logloss: 0.339794\ttraining's auc: 0.908055\tvalid_1's binary_logloss: 0.385799\tvalid_1's auc: 0.873755\n",
            "[1800]\ttraining's binary_logloss: 0.334071\ttraining's auc: 0.911787\tvalid_1's binary_logloss: 0.38522\tvalid_1's auc: 0.874131\n",
            "[2000]\ttraining's binary_logloss: 0.328928\ttraining's auc: 0.915027\tvalid_1's binary_logloss: 0.384585\tvalid_1's auc: 0.874663\n",
            "[2200]\ttraining's binary_logloss: 0.324102\ttraining's auc: 0.918005\tvalid_1's binary_logloss: 0.384356\tvalid_1's auc: 0.874845\n",
            "[2400]\ttraining's binary_logloss: 0.3194\ttraining's auc: 0.920888\tvalid_1's binary_logloss: 0.384145\tvalid_1's auc: 0.874979\n",
            "[2600]\ttraining's binary_logloss: 0.314792\ttraining's auc: 0.923696\tvalid_1's binary_logloss: 0.383954\tvalid_1's auc: 0.875109\n",
            "[2800]\ttraining's binary_logloss: 0.310354\ttraining's auc: 0.926257\tvalid_1's binary_logloss: 0.383876\tvalid_1's auc: 0.875175\n",
            "Early stopping, best iteration is:\n",
            "[2727]\ttraining's binary_logloss: 0.311992\ttraining's auc: 0.925346\tvalid_1's binary_logloss: 0.38385\tvalid_1's auc: 0.875191\n",
            "err:  0.8751905345038967\n"
          ],
          "name": "stdout"
        }
      ]
    },
    {
      "cell_type": "code",
      "metadata": {
        "id": "qliTAyfUNjXH",
        "colab_type": "code",
        "colab": {
          "base_uri": "https://localhost:8080/",
          "height": 34
        },
        "outputId": "104659df-1196-4c1c-e8a3-60753001ad48"
      },
      "source": [
        "np.mean(err,0)"
      ],
      "execution_count": null,
      "outputs": [
        {
          "output_type": "execute_result",
          "data": {
            "text/plain": [
              "0.8698448366490517"
            ]
          },
          "metadata": {
            "tags": []
          },
          "execution_count": 117
        }
      ]
    },
    {
      "cell_type": "code",
      "metadata": {
        "id": "VuIx4N949JqC",
        "colab_type": "code",
        "colab": {
          "base_uri": "https://localhost:8080/",
          "height": 793
        },
        "outputId": "d873687c-378b-44a4-f88f-d4247eb720e4"
      },
      "source": [
        "all_features = feature_importance_df[[\"feature\", \"importance\"]].groupby(\"feature\").mean().sort_values(by=\"importance\", ascending=False)\n",
        "all_features.reset_index(inplace=True)\n",
        "important_features = list(all_features[0:150]['feature'])\n",
        "all_features[0:150]"
      ],
      "execution_count": null,
      "outputs": [
        {
          "output_type": "execute_result",
          "data": {
            "text/html": [
              "<div>\n",
              "<style scoped>\n",
              "    .dataframe tbody tr th:only-of-type {\n",
              "        vertical-align: middle;\n",
              "    }\n",
              "\n",
              "    .dataframe tbody tr th {\n",
              "        vertical-align: top;\n",
              "    }\n",
              "\n",
              "    .dataframe thead th {\n",
              "        text-align: right;\n",
              "    }\n",
              "</style>\n",
              "<table border=\"1\" class=\"dataframe\">\n",
              "  <thead>\n",
              "    <tr style=\"text-align: right;\">\n",
              "      <th></th>\n",
              "      <th>feature</th>\n",
              "      <th>importance</th>\n",
              "    </tr>\n",
              "  </thead>\n",
              "  <tbody>\n",
              "    <tr>\n",
              "      <th>0</th>\n",
              "      <td>Reg_day</td>\n",
              "      <td>9388.2</td>\n",
              "    </tr>\n",
              "    <tr>\n",
              "      <th>1</th>\n",
              "      <td>fi_day</td>\n",
              "      <td>8027.5</td>\n",
              "    </tr>\n",
              "    <tr>\n",
              "      <th>2</th>\n",
              "      <td>Age</td>\n",
              "      <td>7144.9</td>\n",
              "    </tr>\n",
              "    <tr>\n",
              "      <th>3</th>\n",
              "      <td>Reg_month</td>\n",
              "      <td>6975.9</td>\n",
              "    </tr>\n",
              "    <tr>\n",
              "      <th>4</th>\n",
              "      <td>fi_month</td>\n",
              "      <td>6419.9</td>\n",
              "    </tr>\n",
              "    <tr>\n",
              "      <th>5</th>\n",
              "      <td>camp_days</td>\n",
              "      <td>5965.0</td>\n",
              "    </tr>\n",
              "    <tr>\n",
              "      <th>6</th>\n",
              "      <td>City_Type</td>\n",
              "      <td>5370.9</td>\n",
              "    </tr>\n",
              "    <tr>\n",
              "      <th>7</th>\n",
              "      <td>Education_Score</td>\n",
              "      <td>4773.5</td>\n",
              "    </tr>\n",
              "    <tr>\n",
              "      <th>8</th>\n",
              "      <td>Var1</td>\n",
              "      <td>3363.4</td>\n",
              "    </tr>\n",
              "    <tr>\n",
              "      <th>9</th>\n",
              "      <td>Employer_Category</td>\n",
              "      <td>3355.9</td>\n",
              "    </tr>\n",
              "    <tr>\n",
              "      <th>10</th>\n",
              "      <td>fi_year</td>\n",
              "      <td>3265.6</td>\n",
              "    </tr>\n",
              "    <tr>\n",
              "      <th>11</th>\n",
              "      <td>Category2</td>\n",
              "      <td>3229.6</td>\n",
              "    </tr>\n",
              "    <tr>\n",
              "      <th>12</th>\n",
              "      <td>Income</td>\n",
              "      <td>2731.0</td>\n",
              "    </tr>\n",
              "    <tr>\n",
              "      <th>13</th>\n",
              "      <td>Reg_year</td>\n",
              "      <td>2474.5</td>\n",
              "    </tr>\n",
              "    <tr>\n",
              "      <th>14</th>\n",
              "      <td>Var5</td>\n",
              "      <td>1778.0</td>\n",
              "    </tr>\n",
              "    <tr>\n",
              "      <th>15</th>\n",
              "      <td>Category1</td>\n",
              "      <td>1625.9</td>\n",
              "    </tr>\n",
              "    <tr>\n",
              "      <th>16</th>\n",
              "      <td>Var2</td>\n",
              "      <td>1205.5</td>\n",
              "    </tr>\n",
              "    <tr>\n",
              "      <th>17</th>\n",
              "      <td>LinkedIn_Shared</td>\n",
              "      <td>554.8</td>\n",
              "    </tr>\n",
              "    <tr>\n",
              "      <th>18</th>\n",
              "      <td>Facebook_Shared</td>\n",
              "      <td>424.2</td>\n",
              "    </tr>\n",
              "    <tr>\n",
              "      <th>19</th>\n",
              "      <td>Online_Follower</td>\n",
              "      <td>393.2</td>\n",
              "    </tr>\n",
              "    <tr>\n",
              "      <th>20</th>\n",
              "      <td>Twitter_Shared</td>\n",
              "      <td>377.5</td>\n",
              "    </tr>\n",
              "    <tr>\n",
              "      <th>21</th>\n",
              "      <td>Var4</td>\n",
              "      <td>376.9</td>\n",
              "    </tr>\n",
              "    <tr>\n",
              "      <th>22</th>\n",
              "      <td>Category3</td>\n",
              "      <td>146.1</td>\n",
              "    </tr>\n",
              "    <tr>\n",
              "      <th>23</th>\n",
              "      <td>Var3</td>\n",
              "      <td>0.1</td>\n",
              "    </tr>\n",
              "  </tbody>\n",
              "</table>\n",
              "</div>"
            ],
            "text/plain": [
              "              feature  importance\n",
              "0             Reg_day      9388.2\n",
              "1              fi_day      8027.5\n",
              "2                 Age      7144.9\n",
              "3           Reg_month      6975.9\n",
              "4            fi_month      6419.9\n",
              "5           camp_days      5965.0\n",
              "6           City_Type      5370.9\n",
              "7     Education_Score      4773.5\n",
              "8                Var1      3363.4\n",
              "9   Employer_Category      3355.9\n",
              "10            fi_year      3265.6\n",
              "11          Category2      3229.6\n",
              "12             Income      2731.0\n",
              "13           Reg_year      2474.5\n",
              "14               Var5      1778.0\n",
              "15          Category1      1625.9\n",
              "16               Var2      1205.5\n",
              "17    LinkedIn_Shared       554.8\n",
              "18    Facebook_Shared       424.2\n",
              "19    Online_Follower       393.2\n",
              "20     Twitter_Shared       377.5\n",
              "21               Var4       376.9\n",
              "22          Category3       146.1\n",
              "23               Var3         0.1"
            ]
          },
          "metadata": {
            "tags": []
          },
          "execution_count": 118
        }
      ]
    },
    {
      "cell_type": "code",
      "metadata": {
        "id": "sIpRUFC_9ZjR",
        "colab_type": "code",
        "colab": {
          "base_uri": "https://localhost:8080/",
          "height": 51
        },
        "outputId": "5b5c812e-6081-4b9b-a66a-093ab66c5c4f"
      },
      "source": [
        "df1 = X[important_features]\n",
        "corr_matrix = df1.corr().abs()\n",
        "\n",
        "# Select upper triangle of correlation matrix\n",
        "upper = corr_matrix.where(np.triu(np.ones(corr_matrix.shape), k=1).astype(np.bool))\n",
        "\n",
        "# Find index of feature columns with correlation greater than 0.95\n",
        "high_cor = [column for column in upper.columns if any(upper[column] > 0.98)]\n",
        "print(len(high_cor))\n",
        "print(high_cor)"
      ],
      "execution_count": null,
      "outputs": [
        {
          "output_type": "stream",
          "text": [
            "0\n",
            "[]\n"
          ],
          "name": "stdout"
        }
      ]
    },
    {
      "cell_type": "code",
      "metadata": {
        "id": "dH95kAmtOJ2b",
        "colab_type": "code",
        "colab": {
          "base_uri": "https://localhost:8080/",
          "height": 204
        },
        "outputId": "3bca61fc-a671-4482-b338-1155810283f5"
      },
      "source": [
        "sub_df = pd.DataFrame(test_df)\n",
        "sub_df[\"Outcome\"] = np.mean(y_pred_tot,0)\n",
        "sub_final_df = test_df[['Patient_ID','Health_Camp_ID','Outcome']]\n",
        "sub_final_df.head()"
      ],
      "execution_count": null,
      "outputs": [
        {
          "output_type": "execute_result",
          "data": {
            "text/html": [
              "<div>\n",
              "<style scoped>\n",
              "    .dataframe tbody tr th:only-of-type {\n",
              "        vertical-align: middle;\n",
              "    }\n",
              "\n",
              "    .dataframe tbody tr th {\n",
              "        vertical-align: top;\n",
              "    }\n",
              "\n",
              "    .dataframe thead th {\n",
              "        text-align: right;\n",
              "    }\n",
              "</style>\n",
              "<table border=\"1\" class=\"dataframe\">\n",
              "  <thead>\n",
              "    <tr style=\"text-align: right;\">\n",
              "      <th></th>\n",
              "      <th>Patient_ID</th>\n",
              "      <th>Health_Camp_ID</th>\n",
              "      <th>Outcome</th>\n",
              "    </tr>\n",
              "  </thead>\n",
              "  <tbody>\n",
              "    <tr>\n",
              "      <th>0</th>\n",
              "      <td>505701</td>\n",
              "      <td>6548</td>\n",
              "      <td>0.636203</td>\n",
              "    </tr>\n",
              "    <tr>\n",
              "      <th>1</th>\n",
              "      <td>500633</td>\n",
              "      <td>6584</td>\n",
              "      <td>0.535180</td>\n",
              "    </tr>\n",
              "    <tr>\n",
              "      <th>2</th>\n",
              "      <td>506945</td>\n",
              "      <td>6582</td>\n",
              "      <td>0.110546</td>\n",
              "    </tr>\n",
              "    <tr>\n",
              "      <th>3</th>\n",
              "      <td>497447</td>\n",
              "      <td>6551</td>\n",
              "      <td>0.685534</td>\n",
              "    </tr>\n",
              "    <tr>\n",
              "      <th>4</th>\n",
              "      <td>496446</td>\n",
              "      <td>6533</td>\n",
              "      <td>0.035902</td>\n",
              "    </tr>\n",
              "  </tbody>\n",
              "</table>\n",
              "</div>"
            ],
            "text/plain": [
              "   Patient_ID  Health_Camp_ID   Outcome\n",
              "0      505701            6548  0.636203\n",
              "1      500633            6584  0.535180\n",
              "2      506945            6582  0.110546\n",
              "3      497447            6551  0.685534\n",
              "4      496446            6533  0.035902"
            ]
          },
          "metadata": {
            "tags": []
          },
          "execution_count": 122
        }
      ]
    },
    {
      "cell_type": "code",
      "metadata": {
        "id": "HVxt2Ip9-PBk",
        "colab_type": "code",
        "colab": {}
      },
      "source": [
        "sub_final_df.to_csv(\"submission.csv\", index=False)"
      ],
      "execution_count": null,
      "outputs": []
    },
    {
      "cell_type": "code",
      "metadata": {
        "id": "sWECtuO6F-ve",
        "colab_type": "code",
        "colab": {
          "base_uri": "https://localhost:8080/",
          "height": 17
        },
        "outputId": "524837bb-e206-4783-b2cd-056747dcb7ba"
      },
      "source": [
        "from google.colab import files\n",
        "files.download('submission.csv')"
      ],
      "execution_count": null,
      "outputs": [
        {
          "output_type": "display_data",
          "data": {
            "application/javascript": [
              "\n",
              "    async function download(id, filename, size) {\n",
              "      if (!google.colab.kernel.accessAllowed) {\n",
              "        return;\n",
              "      }\n",
              "      const div = document.createElement('div');\n",
              "      const label = document.createElement('label');\n",
              "      label.textContent = `Downloading \"${filename}\": `;\n",
              "      div.appendChild(label);\n",
              "      const progress = document.createElement('progress');\n",
              "      progress.max = size;\n",
              "      div.appendChild(progress);\n",
              "      document.body.appendChild(div);\n",
              "\n",
              "      const buffers = [];\n",
              "      let downloaded = 0;\n",
              "\n",
              "      const channel = await google.colab.kernel.comms.open(id);\n",
              "      // Send a message to notify the kernel that we're ready.\n",
              "      channel.send({})\n",
              "\n",
              "      for await (const message of channel.messages) {\n",
              "        // Send a message to notify the kernel that we're ready.\n",
              "        channel.send({})\n",
              "        if (message.buffers) {\n",
              "          for (const buffer of message.buffers) {\n",
              "            buffers.push(buffer);\n",
              "            downloaded += buffer.byteLength;\n",
              "            progress.value = downloaded;\n",
              "          }\n",
              "        }\n",
              "      }\n",
              "      const blob = new Blob(buffers, {type: 'application/binary'});\n",
              "      const a = document.createElement('a');\n",
              "      a.href = window.URL.createObjectURL(blob);\n",
              "      a.download = filename;\n",
              "      div.appendChild(a);\n",
              "      a.click();\n",
              "      div.remove();\n",
              "    }\n",
              "  "
            ],
            "text/plain": [
              "<IPython.core.display.Javascript object>"
            ]
          },
          "metadata": {
            "tags": []
          }
        },
        {
          "output_type": "display_data",
          "data": {
            "application/javascript": [
              "download(\"download_9341bff9-c35e-4c44-bcd8-16c003235683\", \"submission.csv\", 1102446)"
            ],
            "text/plain": [
              "<IPython.core.display.Javascript object>"
            ]
          },
          "metadata": {
            "tags": []
          }
        }
      ]
    }
  ]
}