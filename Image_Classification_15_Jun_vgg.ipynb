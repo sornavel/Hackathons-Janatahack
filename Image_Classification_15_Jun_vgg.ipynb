{
  "nbformat": 4,
  "nbformat_minor": 0,
  "metadata": {
    "colab": {
      "name": "Image Classification_15-Jun.ipynb",
      "provenance": [],
      "collapsed_sections": [],
      "include_colab_link": true
    },
    "kernelspec": {
      "name": "python3",
      "display_name": "Python 3"
    },
    "accelerator": "GPU",
    "widgets": {
      "application/vnd.jupyter.widget-state+json": {
        "ff042eb2891d4184b9d35e867c4ff8d0": {
          "model_module": "@jupyter-widgets/controls",
          "model_name": "HBoxModel",
          "state": {
            "_view_name": "HBoxView",
            "_dom_classes": [],
            "_model_name": "HBoxModel",
            "_view_module": "@jupyter-widgets/controls",
            "_model_module_version": "1.5.0",
            "_view_count": null,
            "_view_module_version": "1.5.0",
            "box_style": "",
            "layout": "IPY_MODEL_2dcffc2c5d3f46d289f52b3e7e3e1130",
            "_model_module": "@jupyter-widgets/controls",
            "children": [
              "IPY_MODEL_2b87c94aae7541eb9323560b124d719b",
              "IPY_MODEL_cb4249e9bc1443dfbe2ef91925d56831"
            ]
          }
        },
        "2dcffc2c5d3f46d289f52b3e7e3e1130": {
          "model_module": "@jupyter-widgets/base",
          "model_name": "LayoutModel",
          "state": {
            "_view_name": "LayoutView",
            "grid_template_rows": null,
            "right": null,
            "justify_content": null,
            "_view_module": "@jupyter-widgets/base",
            "overflow": null,
            "_model_module_version": "1.2.0",
            "_view_count": null,
            "flex_flow": null,
            "width": null,
            "min_width": null,
            "border": null,
            "align_items": null,
            "bottom": null,
            "_model_module": "@jupyter-widgets/base",
            "top": null,
            "grid_column": null,
            "overflow_y": null,
            "overflow_x": null,
            "grid_auto_flow": null,
            "grid_area": null,
            "grid_template_columns": null,
            "flex": null,
            "_model_name": "LayoutModel",
            "justify_items": null,
            "grid_row": null,
            "max_height": null,
            "align_content": null,
            "visibility": null,
            "align_self": null,
            "height": null,
            "min_height": null,
            "padding": null,
            "grid_auto_rows": null,
            "grid_gap": null,
            "max_width": null,
            "order": null,
            "_view_module_version": "1.2.0",
            "grid_template_areas": null,
            "object_position": null,
            "object_fit": null,
            "grid_auto_columns": null,
            "margin": null,
            "display": null,
            "left": null
          }
        },
        "2b87c94aae7541eb9323560b124d719b": {
          "model_module": "@jupyter-widgets/controls",
          "model_name": "FloatProgressModel",
          "state": {
            "_view_name": "ProgressView",
            "style": "IPY_MODEL_881d99d677984d81bd20f9c57ab6ab9c",
            "_dom_classes": [],
            "description": "100%",
            "_model_name": "FloatProgressModel",
            "bar_style": "success",
            "max": 574769405,
            "_view_module": "@jupyter-widgets/controls",
            "_model_module_version": "1.5.0",
            "value": 574769405,
            "_view_count": null,
            "_view_module_version": "1.5.0",
            "orientation": "horizontal",
            "min": 0,
            "description_tooltip": null,
            "_model_module": "@jupyter-widgets/controls",
            "layout": "IPY_MODEL_ad7255fd7b5447efa02847bc4a74f8a5"
          }
        },
        "cb4249e9bc1443dfbe2ef91925d56831": {
          "model_module": "@jupyter-widgets/controls",
          "model_name": "HTMLModel",
          "state": {
            "_view_name": "HTMLView",
            "style": "IPY_MODEL_9189e856bf5c4a2db711403b86433deb",
            "_dom_classes": [],
            "description": "",
            "_model_name": "HTMLModel",
            "placeholder": "​",
            "_view_module": "@jupyter-widgets/controls",
            "_model_module_version": "1.5.0",
            "value": " 548M/548M [00:04&lt;00:00, 142MB/s]",
            "_view_count": null,
            "_view_module_version": "1.5.0",
            "description_tooltip": null,
            "_model_module": "@jupyter-widgets/controls",
            "layout": "IPY_MODEL_e643bb082e8a4cb297bd3dd56053cc7f"
          }
        },
        "881d99d677984d81bd20f9c57ab6ab9c": {
          "model_module": "@jupyter-widgets/controls",
          "model_name": "ProgressStyleModel",
          "state": {
            "_view_name": "StyleView",
            "_model_name": "ProgressStyleModel",
            "description_width": "initial",
            "_view_module": "@jupyter-widgets/base",
            "_model_module_version": "1.5.0",
            "_view_count": null,
            "_view_module_version": "1.2.0",
            "bar_color": null,
            "_model_module": "@jupyter-widgets/controls"
          }
        },
        "ad7255fd7b5447efa02847bc4a74f8a5": {
          "model_module": "@jupyter-widgets/base",
          "model_name": "LayoutModel",
          "state": {
            "_view_name": "LayoutView",
            "grid_template_rows": null,
            "right": null,
            "justify_content": null,
            "_view_module": "@jupyter-widgets/base",
            "overflow": null,
            "_model_module_version": "1.2.0",
            "_view_count": null,
            "flex_flow": null,
            "width": null,
            "min_width": null,
            "border": null,
            "align_items": null,
            "bottom": null,
            "_model_module": "@jupyter-widgets/base",
            "top": null,
            "grid_column": null,
            "overflow_y": null,
            "overflow_x": null,
            "grid_auto_flow": null,
            "grid_area": null,
            "grid_template_columns": null,
            "flex": null,
            "_model_name": "LayoutModel",
            "justify_items": null,
            "grid_row": null,
            "max_height": null,
            "align_content": null,
            "visibility": null,
            "align_self": null,
            "height": null,
            "min_height": null,
            "padding": null,
            "grid_auto_rows": null,
            "grid_gap": null,
            "max_width": null,
            "order": null,
            "_view_module_version": "1.2.0",
            "grid_template_areas": null,
            "object_position": null,
            "object_fit": null,
            "grid_auto_columns": null,
            "margin": null,
            "display": null,
            "left": null
          }
        },
        "9189e856bf5c4a2db711403b86433deb": {
          "model_module": "@jupyter-widgets/controls",
          "model_name": "DescriptionStyleModel",
          "state": {
            "_view_name": "StyleView",
            "_model_name": "DescriptionStyleModel",
            "description_width": "",
            "_view_module": "@jupyter-widgets/base",
            "_model_module_version": "1.5.0",
            "_view_count": null,
            "_view_module_version": "1.2.0",
            "_model_module": "@jupyter-widgets/controls"
          }
        },
        "e643bb082e8a4cb297bd3dd56053cc7f": {
          "model_module": "@jupyter-widgets/base",
          "model_name": "LayoutModel",
          "state": {
            "_view_name": "LayoutView",
            "grid_template_rows": null,
            "right": null,
            "justify_content": null,
            "_view_module": "@jupyter-widgets/base",
            "overflow": null,
            "_model_module_version": "1.2.0",
            "_view_count": null,
            "flex_flow": null,
            "width": null,
            "min_width": null,
            "border": null,
            "align_items": null,
            "bottom": null,
            "_model_module": "@jupyter-widgets/base",
            "top": null,
            "grid_column": null,
            "overflow_y": null,
            "overflow_x": null,
            "grid_auto_flow": null,
            "grid_area": null,
            "grid_template_columns": null,
            "flex": null,
            "_model_name": "LayoutModel",
            "justify_items": null,
            "grid_row": null,
            "max_height": null,
            "align_content": null,
            "visibility": null,
            "align_self": null,
            "height": null,
            "min_height": null,
            "padding": null,
            "grid_auto_rows": null,
            "grid_gap": null,
            "max_width": null,
            "order": null,
            "_view_module_version": "1.2.0",
            "grid_template_areas": null,
            "object_position": null,
            "object_fit": null,
            "grid_auto_columns": null,
            "margin": null,
            "display": null,
            "left": null
          }
        }
      }
    }
  },
  "cells": [
    {
      "cell_type": "markdown",
      "metadata": {
        "id": "view-in-github",
        "colab_type": "text"
      },
      "source": [
        "<a href=\"https://colab.research.google.com/github/sornavel/Hackathons-Janatahack-Jun-2020/blob/master/Image_Classification_15_Jun_vgg.ipynb\" target=\"_parent\"><img src=\"https://colab.research.google.com/assets/colab-badge.svg\" alt=\"Open In Colab\"/></a>"
      ]
    },
    {
      "cell_type": "code",
      "metadata": {
        "id": "XbHNnoSG1j9M",
        "colab_type": "code",
        "outputId": "ce773bff-ed97-4788-8d4b-e380899a1c6e",
        "colab": {
          "base_uri": "https://localhost:8080/",
          "height": 292
        }
      },
      "source": [
        "!pip install PyDrive"
      ],
      "execution_count": 24,
      "outputs": [
        {
          "output_type": "stream",
          "text": [
            "Requirement already satisfied: PyDrive in /usr/local/lib/python3.6/dist-packages (1.3.1)\n",
            "Requirement already satisfied: google-api-python-client>=1.2 in /usr/local/lib/python3.6/dist-packages (from PyDrive) (1.7.12)\n",
            "Requirement already satisfied: oauth2client>=4.0.0 in /usr/local/lib/python3.6/dist-packages (from PyDrive) (4.1.3)\n",
            "Requirement already satisfied: PyYAML>=3.0 in /usr/local/lib/python3.6/dist-packages (from PyDrive) (3.13)\n",
            "Requirement already satisfied: httplib2<1dev,>=0.17.0 in /usr/local/lib/python3.6/dist-packages (from google-api-python-client>=1.2->PyDrive) (0.17.4)\n",
            "Requirement already satisfied: google-auth>=1.4.1 in /usr/local/lib/python3.6/dist-packages (from google-api-python-client>=1.2->PyDrive) (1.7.2)\n",
            "Requirement already satisfied: six<2dev,>=1.6.1 in /usr/local/lib/python3.6/dist-packages (from google-api-python-client>=1.2->PyDrive) (1.12.0)\n",
            "Requirement already satisfied: uritemplate<4dev,>=3.0.0 in /usr/local/lib/python3.6/dist-packages (from google-api-python-client>=1.2->PyDrive) (3.0.1)\n",
            "Requirement already satisfied: google-auth-httplib2>=0.0.3 in /usr/local/lib/python3.6/dist-packages (from google-api-python-client>=1.2->PyDrive) (0.0.3)\n",
            "Requirement already satisfied: pyasn1-modules>=0.0.5 in /usr/local/lib/python3.6/dist-packages (from oauth2client>=4.0.0->PyDrive) (0.2.8)\n",
            "Requirement already satisfied: rsa>=3.1.4 in /usr/local/lib/python3.6/dist-packages (from oauth2client>=4.0.0->PyDrive) (4.0)\n",
            "Requirement already satisfied: pyasn1>=0.1.7 in /usr/local/lib/python3.6/dist-packages (from oauth2client>=4.0.0->PyDrive) (0.4.8)\n",
            "Requirement already satisfied: cachetools<3.2,>=2.0.0 in /usr/local/lib/python3.6/dist-packages (from google-auth>=1.4.1->google-api-python-client>=1.2->PyDrive) (3.1.1)\n",
            "Requirement already satisfied: setuptools>=40.3.0 in /usr/local/lib/python3.6/dist-packages (from google-auth>=1.4.1->google-api-python-client>=1.2->PyDrive) (47.1.1)\n"
          ],
          "name": "stdout"
        }
      ]
    },
    {
      "cell_type": "code",
      "metadata": {
        "id": "zMxN4DD_1pVv",
        "colab_type": "code",
        "colab": {}
      },
      "source": [
        "import os\n",
        "import pandas as pd\n",
        "from pydrive.auth import GoogleAuth\n",
        "from pydrive.drive import GoogleDrive\n",
        "from google.colab import auth\n",
        "from oauth2client.client import GoogleCredentials"
      ],
      "execution_count": 0,
      "outputs": []
    },
    {
      "cell_type": "code",
      "metadata": {
        "id": "S21HE-gZ1tf8",
        "colab_type": "code",
        "colab": {}
      },
      "source": [
        "auth.authenticate_user()\n",
        "gauth = GoogleAuth()\n",
        "gauth.credentials = GoogleCredentials.get_application_default()\n",
        "drive = GoogleDrive(gauth)"
      ],
      "execution_count": 0,
      "outputs": []
    },
    {
      "cell_type": "code",
      "metadata": {
        "colab_type": "code",
        "id": "649tYSDnK-TB",
        "colab": {}
      },
      "source": [
        "download = drive.CreateFile({'id': '1-1swO1d7w-0-9I_CCX_yK64G638NfKCX'})"
      ],
      "execution_count": 0,
      "outputs": []
    },
    {
      "cell_type": "code",
      "metadata": {
        "id": "En7hac61QIDs",
        "colab_type": "code",
        "outputId": "f84bfc4d-8410-408e-b209-10a5972caaa2",
        "colab": {
          "base_uri": "https://localhost:8080/",
          "height": 54
        }
      },
      "source": [
        "download.GetContentFile('train.zip')\n",
        "!unzip 'train.zip'\n",
        "train_df = pd.read_csv('train.csv')"
      ],
      "execution_count": 28,
      "outputs": [
        {
          "output_type": "stream",
          "text": [
            "Archive:  train.zip\n",
            "replace images/0.jpg? [y]es, [n]o, [A]ll, [N]one, [r]ename: N\n"
          ],
          "name": "stdout"
        }
      ]
    },
    {
      "cell_type": "code",
      "metadata": {
        "id": "oXvaaFeBXQRv",
        "colab_type": "code",
        "colab": {}
      },
      "source": [
        "%reload_ext autoreload\n",
        "%autoreload 2\n",
        "%matplotlib inline\n",
        "import torch\n",
        "import numpy as np\n",
        "import pandas as pd\n",
        "import matplotlib.pyplot as plt\n",
        "from matplotlib import style\n",
        "import seaborn as sns\n",
        "%matplotlib inline  \n",
        "from sklearn.model_selection import StratifiedKFold\n",
        "from joblib import load, dump\n",
        "from sklearn.metrics import cohen_kappa_score\n",
        "from sklearn.metrics import confusion_matrix\n",
        "from fastai import *\n",
        "from fastai.vision import *\n",
        "from fastai.callbacks import *\n",
        "from torchvision import models as md\n",
        "from torch import nn\n",
        "from torch.nn import functional as F\n",
        "import re\n",
        "import math\n",
        "import collections\n",
        "from functools import partial\n",
        "from torch.utils import model_zoo\n",
        "from sklearn import metrics\n",
        "from collections import Counter\n",
        "import json"
      ],
      "execution_count": 0,
      "outputs": []
    },
    {
      "cell_type": "code",
      "metadata": {
        "id": "ghzD-xtuXYsF",
        "colab_type": "code",
        "colab": {}
      },
      "source": [
        "# Parameters for the entire model (stem, all blocks, and head)\n",
        "GlobalParams = collections.namedtuple('GlobalParams', [\n",
        "    'batch_norm_momentum', 'batch_norm_epsilon', 'dropout_rate',\n",
        "    'num_classes', 'width_coefficient', 'depth_coefficient',\n",
        "    'depth_divisor', 'min_depth', 'drop_connect_rate', 'image_size'])\n",
        "\n",
        "\n",
        "# Parameters for an individual model block\n",
        "BlockArgs = collections.namedtuple('BlockArgs', [\n",
        "    'kernel_size', 'num_repeat', 'input_filters', 'output_filters',\n",
        "    'expand_ratio', 'id_skip', 'stride', 'se_ratio'])\n",
        "\n",
        "\n",
        "# Change namedtuple defaults\n",
        "GlobalParams.__new__.__defaults__ = (None,) * len(GlobalParams._fields)\n",
        "BlockArgs.__new__.__defaults__ = (None,) * len(BlockArgs._fields)\n",
        "\n",
        "\n",
        "def relu_fn(x):\n",
        "    \"\"\" Swish activation function \"\"\"\n",
        "    return x * torch.sigmoid(x)\n",
        "\n",
        "\n",
        "def round_filters(filters, global_params):\n",
        "    \"\"\" Calculate and round number of filters based on depth multiplier. \"\"\"\n",
        "    multiplier = global_params.width_coefficient\n",
        "    if not multiplier:\n",
        "        return filters\n",
        "    divisor = global_params.depth_divisor\n",
        "    min_depth = global_params.min_depth\n",
        "    filters *= multiplier\n",
        "    min_depth = min_depth or divisor\n",
        "    new_filters = max(min_depth, int(filters + divisor / 2) // divisor * divisor)\n",
        "    if new_filters < 0.9 * filters:  # prevent rounding by more than 10%\n",
        "        new_filters += divisor\n",
        "    return int(new_filters)\n",
        "\n",
        "\n",
        "def round_repeats(repeats, global_params):\n",
        "    \"\"\" Round number of filters based on depth multiplier. \"\"\"\n",
        "    multiplier = global_params.depth_coefficient\n",
        "    if not multiplier:\n",
        "        return repeats\n",
        "    return int(math.ceil(multiplier * repeats))\n",
        "\n",
        "\n",
        "def drop_connect(inputs, p, training):\n",
        "    \"\"\" Drop connect. \"\"\"\n",
        "    if not training: return inputs\n",
        "    batch_size = inputs.shape[0]\n",
        "    keep_prob = 1 - p\n",
        "    random_tensor = keep_prob\n",
        "    random_tensor += torch.rand([batch_size, 1, 1, 1], dtype=inputs.dtype, device=inputs.device)\n",
        "    binary_tensor = torch.floor(random_tensor)\n",
        "    output = inputs / keep_prob * binary_tensor\n",
        "    return output\n",
        "\n",
        "\n",
        "def get_same_padding_conv2d(image_size=None):\n",
        "    \"\"\" Chooses static padding if you have specified an image size, and dynamic padding otherwise.\n",
        "        Static padding is necessary for ONNX exporting of models. \"\"\"\n",
        "    if image_size is None:\n",
        "        return Conv2dDynamicSamePadding\n",
        "    else:\n",
        "        return partial(Conv2dStaticSamePadding, image_size=image_size)\n",
        "\n",
        "class Conv2dDynamicSamePadding(nn.Conv2d):\n",
        "    \"\"\" 2D Convolutions like TensorFlow, for a dynamic image size \"\"\"\n",
        "    def __init__(self, in_channels, out_channels, kernel_size, stride=1, dilation=1, groups=1, bias=True):\n",
        "        super().__init__(in_channels, out_channels, kernel_size, stride, 0, dilation, groups, bias)\n",
        "        self.stride = self.stride if len(self.stride) == 2 else [self.stride[0]]*2\n",
        "\n",
        "    def forward(self, x):\n",
        "        ih, iw = x.size()[-2:]\n",
        "        kh, kw = self.weight.size()[-2:]\n",
        "        sh, sw = self.stride\n",
        "        oh, ow = math.ceil(ih / sh), math.ceil(iw / sw)\n",
        "        pad_h = max((oh - 1) * self.stride[0] + (kh - 1) * self.dilation[0] + 1 - ih, 0)\n",
        "        pad_w = max((ow - 1) * self.stride[1] + (kw - 1) * self.dilation[1] + 1 - iw, 0)\n",
        "        if pad_h > 0 or pad_w > 0:\n",
        "            x = F.pad(x, [pad_w//2, pad_w - pad_w//2, pad_h//2, pad_h - pad_h//2])\n",
        "        return F.conv2d(x, self.weight, self.bias, self.stride, self.padding, self.dilation, self.groups)\n",
        "\n",
        "\n",
        "class Conv2dStaticSamePadding(nn.Conv2d):\n",
        "    \"\"\" 2D Convolutions like TensorFlow, for a fixed image size\"\"\"\n",
        "    def __init__(self, in_channels, out_channels, kernel_size, image_size=None, **kwargs):\n",
        "        super().__init__(in_channels, out_channels, kernel_size, **kwargs)\n",
        "        self.stride = self.stride if len(self.stride) == 2 else [self.stride[0]] * 2\n",
        "\n",
        "        # Calculate padding based on image size and save it\n",
        "        assert image_size is not None\n",
        "        ih, iw = image_size if type(image_size) == list else [image_size, image_size]\n",
        "        kh, kw = self.weight.size()[-2:]\n",
        "        sh, sw = self.stride\n",
        "        oh, ow = math.ceil(ih / sh), math.ceil(iw / sw)\n",
        "        pad_h = max((oh - 1) * self.stride[0] + (kh - 1) * self.dilation[0] + 1 - ih, 0)\n",
        "        pad_w = max((ow - 1) * self.stride[1] + (kw - 1) * self.dilation[1] + 1 - iw, 0)\n",
        "        if pad_h > 0 or pad_w > 0:\n",
        "            self.static_padding = nn.ZeroPad2d((pad_w // 2, pad_w - pad_w // 2, pad_h // 2, pad_h - pad_h // 2))\n",
        "        else:\n",
        "            self.static_padding = Identity()\n",
        "\n",
        "    def forward(self, x):\n",
        "        x = self.static_padding(x)\n",
        "        x = F.conv2d(x, self.weight, self.bias, self.stride, self.padding, self.dilation, self.groups)\n",
        "        return x\n",
        "\n",
        "\n",
        "class Identity(nn.Module):\n",
        "    def __init__(self,):\n",
        "        super(Identity, self).__init__()\n",
        "\n",
        "    def forward(self, input):\n",
        "        return input\n",
        "\n",
        "\n",
        "########################################################################\n",
        "############## HELPERS FUNCTIONS FOR LOADING MODEL PARAMS ##############\n",
        "########################################################################\n",
        "\n",
        "\n",
        "def efficientnet_params(model_name):\n",
        "    \"\"\" Map EfficientNet model name to parameter coefficients. \"\"\"\n",
        "    params_dict = {\n",
        "        # Coefficients:   width,depth,res,dropout\n",
        "        'efficientnet-b0': (1.0, 1.0, 224, 0.2),\n",
        "        'efficientnet-b1': (1.0, 1.1, 240, 0.2),\n",
        "        'efficientnet-b2': (1.1, 1.2, 260, 0.3),\n",
        "        'efficientnet-b3': (1.2, 1.4, 300, 0.3),\n",
        "        'efficientnet-b4': (1.4, 1.8, 380, 0.4),\n",
        "        'efficientnet-b5': (1.6, 2.2, 456, 0.4),\n",
        "        'efficientnet-b6': (1.8, 2.6, 528, 0.5),\n",
        "        'efficientnet-b7': (2.0, 3.1, 600, 0.5),\n",
        "    }\n",
        "    return params_dict[model_name]\n",
        "\n",
        "\n",
        "class BlockDecoder(object):\n",
        "    \"\"\" Block Decoder for readability, straight from the official TensorFlow repository \"\"\"\n",
        "\n",
        "    @staticmethod\n",
        "    def _decode_block_string(block_string):\n",
        "        \"\"\" Gets a block through a string notation of arguments. \"\"\"\n",
        "        assert isinstance(block_string, str)\n",
        "\n",
        "        ops = block_string.split('_')\n",
        "        options = {}\n",
        "        for op in ops:\n",
        "            splits = re.split(r'(\\d.*)', op)\n",
        "            if len(splits) >= 2:\n",
        "                key, value = splits[:2]\n",
        "                options[key] = value\n",
        "\n",
        "        # Check stride\n",
        "        assert (('s' in options and len(options['s']) == 1) or\n",
        "                (len(options['s']) == 2 and options['s'][0] == options['s'][1]))\n",
        "\n",
        "        return BlockArgs(\n",
        "            kernel_size=int(options['k']),\n",
        "            num_repeat=int(options['r']),\n",
        "            input_filters=int(options['i']),\n",
        "            output_filters=int(options['o']),\n",
        "            expand_ratio=int(options['e']),\n",
        "            id_skip=('noskip' not in block_string),\n",
        "            se_ratio=float(options['se']) if 'se' in options else None,\n",
        "            stride=[int(options['s'][0])])\n",
        "\n",
        "    @staticmethod\n",
        "    def _encode_block_string(block):\n",
        "        \"\"\"Encodes a block to a string.\"\"\"\n",
        "        args = [\n",
        "            'r%d' % block.num_repeat,\n",
        "            'k%d' % block.kernel_size,\n",
        "            's%d%d' % (block.strides[0], block.strides[1]),\n",
        "            'e%s' % block.expand_ratio,\n",
        "            'i%d' % block.input_filters,\n",
        "            'o%d' % block.output_filters\n",
        "        ]\n",
        "        if 0 < block.se_ratio <= 1:\n",
        "            args.append('se%s' % block.se_ratio)\n",
        "        if block.id_skip is False:\n",
        "            args.append('noskip')\n",
        "        return '_'.join(args)\n",
        "\n",
        "    @staticmethod\n",
        "    def decode(string_list):\n",
        "        \"\"\"\n",
        "        Decodes a list of string notations to specify blocks inside the network.\n",
        "\n",
        "        :param string_list: a list of strings, each string is a notation of block\n",
        "        :return: a list of BlockArgs namedtuples of block args\n",
        "        \"\"\"\n",
        "        assert isinstance(string_list, list)\n",
        "        blocks_args = []\n",
        "        for block_string in string_list:\n",
        "            blocks_args.append(BlockDecoder._decode_block_string(block_string))\n",
        "        return blocks_args\n",
        "\n",
        "    @staticmethod\n",
        "    def encode(blocks_args):\n",
        "        \"\"\"\n",
        "        Encodes a list of BlockArgs to a list of strings.\n",
        "\n",
        "        :param blocks_args: a list of BlockArgs namedtuples of block args\n",
        "        :return: a list of strings, each string is a notation of block\n",
        "        \"\"\"\n",
        "        block_strings = []\n",
        "        for block in blocks_args:\n",
        "            block_strings.append(BlockDecoder._encode_block_string(block))\n",
        "        return block_strings\n",
        "\n",
        "\n",
        "def efficientnet(width_coefficient=None, depth_coefficient=None, dropout_rate=0.2,\n",
        "                 drop_connect_rate=0.2, image_size=None, num_classes=1000):\n",
        "    \"\"\" Creates a efficientnet model. \"\"\"\n",
        "\n",
        "    blocks_args = [\n",
        "        'r1_k3_s11_e1_i32_o16_se0.25', 'r2_k3_s22_e6_i16_o24_se0.25',\n",
        "        'r2_k5_s22_e6_i24_o40_se0.25', 'r3_k3_s22_e6_i40_o80_se0.25',\n",
        "        'r3_k5_s11_e6_i80_o112_se0.25', 'r4_k5_s22_e6_i112_o192_se0.25',\n",
        "        'r1_k3_s11_e6_i192_o320_se0.25',\n",
        "    ]\n",
        "    blocks_args = BlockDecoder.decode(blocks_args)\n",
        "\n",
        "    global_params = GlobalParams(\n",
        "        batch_norm_momentum=0.99,\n",
        "        batch_norm_epsilon=1e-3,\n",
        "        dropout_rate=dropout_rate,\n",
        "        drop_connect_rate=drop_connect_rate,\n",
        "        # data_format='channels_last',  # removed, this is always true in PyTorch\n",
        "        num_classes=num_classes,\n",
        "        width_coefficient=width_coefficient,\n",
        "        depth_coefficient=depth_coefficient,\n",
        "        depth_divisor=8,\n",
        "        min_depth=None,\n",
        "        image_size=image_size,\n",
        "    )\n",
        "\n",
        "    return blocks_args, global_params\n",
        "\n",
        "\n",
        "def get_model_params(model_name, override_params):\n",
        "    \"\"\" Get the block args and global params for a given model \"\"\"\n",
        "    if model_name.startswith('efficientnet'):\n",
        "        w, d, s, p = efficientnet_params(model_name)\n",
        "        # note: all models have drop connect rate = 0.2\n",
        "        blocks_args, global_params = efficientnet(\n",
        "            width_coefficient=w, depth_coefficient=d, dropout_rate=p, image_size=s)\n",
        "    else:\n",
        "        raise NotImplementedError('model name is not pre-defined: %s' % model_name)\n",
        "    if override_params:\n",
        "        # ValueError will be raised here if override_params has fields not included in global_params.\n",
        "        global_params = global_params._replace(**override_params)\n",
        "    return blocks_args, global_params\n",
        "\n",
        "\n",
        "url_map = {\n",
        "    'efficientnet-b0': 'http://storage.googleapis.com/public-models/efficientnet-b0-08094119.pth',\n",
        "    'efficientnet-b1': 'http://storage.googleapis.com/public-models/efficientnet-b1-dbc7070a.pth',\n",
        "    'efficientnet-b2': 'http://storage.googleapis.com/public-models/efficientnet-b2-27687264.pth',\n",
        "    'efficientnet-b3': 'http://storage.googleapis.com/public-models/efficientnet-b3-c8376fa2.pth',\n",
        "    'efficientnet-b4': 'http://storage.googleapis.com/public-models/efficientnet-b4-e116e8b3.pth',\n",
        "    'efficientnet-b5': 'http://storage.googleapis.com/public-models/efficientnet-b5-586e6cc6.pth',\n",
        "}\n",
        "\n",
        "def load_pretrained_weights(model, model_name, load_fc=True):\n",
        "    \"\"\" Loads pretrained weights, and downloads if loading for the first time. \"\"\"\n",
        "    state_dict = model_zoo.load_url(url_map[model_name])\n",
        "    if load_fc:\n",
        "        model.load_state_dict(state_dict)\n",
        "    else:\n",
        "        state_dict.pop('_fc.weight')\n",
        "        state_dict.pop('_fc.bias')\n",
        "        res = model.load_state_dict(state_dict, strict=False)\n",
        "        assert str(res.missing_keys) == str(['_fc.weight', '_fc.bias']), 'issue loading pretrained weights'\n",
        "    print('Loaded pretrained weights for {}'.format(model_name))\n",
        "    \n",
        "    \n",
        "class MBConvBlock(nn.Module):\n",
        "    \"\"\"\n",
        "    Mobile Inverted Residual Bottleneck Block\n",
        "\n",
        "    Args:\n",
        "        block_args (namedtuple): BlockArgs, see above\n",
        "        global_params (namedtuple): GlobalParam, see above\n",
        "\n",
        "    Attributes:\n",
        "        has_se (bool): Whether the block contains a Squeeze and Excitation layer.\n",
        "    \"\"\"\n",
        "\n",
        "    def __init__(self, block_args, global_params):\n",
        "        super().__init__()\n",
        "        self._block_args = block_args\n",
        "        self._bn_mom = 1 - global_params.batch_norm_momentum\n",
        "        self._bn_eps = global_params.batch_norm_epsilon\n",
        "        self.has_se = (self._block_args.se_ratio is not None) and (0 < self._block_args.se_ratio <= 1)\n",
        "        self.id_skip = block_args.id_skip  # skip connection and drop connect\n",
        "\n",
        "        # Get static or dynamic convolution depending on image size\n",
        "        Conv2d = get_same_padding_conv2d(image_size=global_params.image_size)\n",
        "\n",
        "        # Expansion phase\n",
        "        inp = self._block_args.input_filters  # number of input channels\n",
        "        oup = self._block_args.input_filters * self._block_args.expand_ratio  # number of output channels\n",
        "        if self._block_args.expand_ratio != 1:\n",
        "            self._expand_conv = Conv2d(in_channels=inp, out_channels=oup, kernel_size=1, bias=False)\n",
        "            self._bn0 = nn.BatchNorm2d(num_features=oup, momentum=self._bn_mom, eps=self._bn_eps)\n",
        "\n",
        "        # Depthwise convolution phase\n",
        "        k = self._block_args.kernel_size\n",
        "        s = self._block_args.stride\n",
        "        self._depthwise_conv = Conv2d(\n",
        "            in_channels=oup, out_channels=oup, groups=oup,  # groups makes it depthwise\n",
        "            kernel_size=k, stride=s, bias=False)\n",
        "        self._bn1 = nn.BatchNorm2d(num_features=oup, momentum=self._bn_mom, eps=self._bn_eps)\n",
        "\n",
        "        # Squeeze and Excitation layer, if desired\n",
        "        if self.has_se:\n",
        "            num_squeezed_channels = max(1, int(self._block_args.input_filters * self._block_args.se_ratio))\n",
        "            self._se_reduce = Conv2d(in_channels=oup, out_channels=num_squeezed_channels, kernel_size=1)\n",
        "            self._se_expand = Conv2d(in_channels=num_squeezed_channels, out_channels=oup, kernel_size=1)\n",
        "\n",
        "        # Output phase\n",
        "        final_oup = self._block_args.output_filters\n",
        "        self._project_conv = Conv2d(in_channels=oup, out_channels=final_oup, kernel_size=1, bias=False)\n",
        "        self._bn2 = nn.BatchNorm2d(num_features=final_oup, momentum=self._bn_mom, eps=self._bn_eps)\n",
        "\n",
        "    def forward(self, inputs, drop_connect_rate=None):\n",
        "        \"\"\"\n",
        "        :param inputs: input tensor\n",
        "        :param drop_connect_rate: drop connect rate (float, between 0 and 1)\n",
        "        :return: output of block\n",
        "        \"\"\"\n",
        "\n",
        "        # Expansion and Depthwise Convolution\n",
        "        x = inputs\n",
        "        if self._block_args.expand_ratio != 1:\n",
        "            x = relu_fn(self._bn0(self._expand_conv(inputs)))\n",
        "        x = relu_fn(self._bn1(self._depthwise_conv(x)))\n",
        "\n",
        "        # Squeeze and Excitation\n",
        "        if self.has_se:\n",
        "            x_squeezed = F.adaptive_avg_pool2d(x, 1)\n",
        "            x_squeezed = self._se_expand(relu_fn(self._se_reduce(x_squeezed)))\n",
        "            x = torch.sigmoid(x_squeezed) * x\n",
        "\n",
        "        x = self._bn2(self._project_conv(x))\n",
        "\n",
        "        # Skip connection and drop connect\n",
        "        input_filters, output_filters = self._block_args.input_filters, self._block_args.output_filters\n",
        "        if self.id_skip and self._block_args.stride == 1 and input_filters == output_filters:\n",
        "            if drop_connect_rate:\n",
        "                x = drop_connect(x, p=drop_connect_rate, training=self.training)\n",
        "            x = x + inputs  # skip connection\n",
        "        return x\n",
        "\n",
        "\n",
        "class EfficientNet(nn.Module):\n",
        "    \"\"\"\n",
        "    An EfficientNet model. Most easily loaded with the .from_name or .from_pretrained methods\n",
        "\n",
        "    Args:\n",
        "        blocks_args (list): A list of BlockArgs to construct blocks\n",
        "        global_params (namedtuple): A set of GlobalParams shared between blocks\n",
        "\n",
        "    Example:\n",
        "        model = EfficientNet.from_pretrained('efficientnet-b0')\n",
        "\n",
        "    \"\"\"\n",
        "\n",
        "    def __init__(self, blocks_args=None, global_params=None):\n",
        "        super().__init__()\n",
        "        assert isinstance(blocks_args, list), 'blocks_args should be a list'\n",
        "        assert len(blocks_args) > 0, 'block args must be greater than 0'\n",
        "        self._global_params = global_params\n",
        "        self._blocks_args = blocks_args\n",
        "\n",
        "        # Get static or dynamic convolution depending on image size\n",
        "        Conv2d = get_same_padding_conv2d(image_size=global_params.image_size)\n",
        "\n",
        "        # Batch norm parameters\n",
        "        bn_mom = 1 - self._global_params.batch_norm_momentum\n",
        "        bn_eps = self._global_params.batch_norm_epsilon\n",
        "\n",
        "        # Stem\n",
        "        in_channels = 3  # rgb\n",
        "        out_channels = round_filters(32, self._global_params)  # number of output channels\n",
        "        self._conv_stem = Conv2d(in_channels, out_channels, kernel_size=3, stride=2, bias=False)\n",
        "        self._bn0 = nn.BatchNorm2d(num_features=out_channels, momentum=bn_mom, eps=bn_eps)\n",
        "\n",
        "        # Build blocks\n",
        "        self._blocks = nn.ModuleList([])\n",
        "        for block_args in self._blocks_args:\n",
        "\n",
        "            # Update block input and output filters based on depth multiplier.\n",
        "            block_args = block_args._replace(\n",
        "                input_filters=round_filters(block_args.input_filters, self._global_params),\n",
        "                output_filters=round_filters(block_args.output_filters, self._global_params),\n",
        "                num_repeat=round_repeats(block_args.num_repeat, self._global_params)\n",
        "            )\n",
        "\n",
        "            # The first block needs to take care of stride and filter size increase.\n",
        "            self._blocks.append(MBConvBlock(block_args, self._global_params))\n",
        "            if block_args.num_repeat > 1:\n",
        "                block_args = block_args._replace(input_filters=block_args.output_filters, stride=1)\n",
        "            for _ in range(block_args.num_repeat - 1):\n",
        "                self._blocks.append(MBConvBlock(block_args, self._global_params))\n",
        "\n",
        "        # Head\n",
        "        in_channels = block_args.output_filters  # output of final block\n",
        "        out_channels = round_filters(1280, self._global_params)\n",
        "        self._conv_head = Conv2d(in_channels, out_channels, kernel_size=1, bias=False)\n",
        "        self._bn1 = nn.BatchNorm2d(num_features=out_channels, momentum=bn_mom, eps=bn_eps)\n",
        "\n",
        "        # Final linear layer\n",
        "        self._dropout = self._global_params.dropout_rate\n",
        "        self._fc = nn.Linear(out_channels, self._global_params.num_classes)\n",
        "\n",
        "    def extract_features(self, inputs):\n",
        "        \"\"\" Returns output of the final convolution layer \"\"\"\n",
        "\n",
        "        # Stem\n",
        "        x = relu_fn(self._bn0(self._conv_stem(inputs)))\n",
        "\n",
        "        # Blocks\n",
        "        for idx, block in enumerate(self._blocks):\n",
        "            drop_connect_rate = self._global_params.drop_connect_rate\n",
        "            if drop_connect_rate:\n",
        "                drop_connect_rate *= float(idx) / len(self._blocks)\n",
        "            x = block(x, drop_connect_rate=drop_connect_rate)\n",
        "\n",
        "        # Head\n",
        "        x = relu_fn(self._bn1(self._conv_head(x)))\n",
        "\n",
        "        return x\n",
        "\n",
        "    def forward(self, inputs):\n",
        "        \"\"\" Calls extract_features to extract features, applies final linear layer, and returns logits. \"\"\"\n",
        "\n",
        "        # Convolution layers\n",
        "        x = self.extract_features(inputs)\n",
        "\n",
        "        # Pooling and final linear layer\n",
        "        x = F.adaptive_avg_pool2d(x, 1).squeeze(-1).squeeze(-1)\n",
        "        if self._dropout:\n",
        "            x = F.dropout(x, p=self._dropout, training=self.training)\n",
        "        x = self._fc(x)\n",
        "        return x\n",
        "\n",
        "    @classmethod\n",
        "    def from_name(cls, model_name, override_params=None):\n",
        "        cls._check_model_name_is_valid(model_name)\n",
        "        blocks_args, global_params = get_model_params(model_name, override_params)\n",
        "        return EfficientNet(blocks_args, global_params)\n",
        "\n",
        "    @classmethod\n",
        "    def from_pretrained(cls, model_name, num_classes=1000):\n",
        "        model = EfficientNet.from_name(model_name, override_params={'num_classes': num_classes})\n",
        "        return model\n",
        "\n",
        "    @classmethod\n",
        "    def get_image_size(cls, model_name):\n",
        "        cls._check_model_name_is_valid(model_name)\n",
        "        _, _, res, _ = efficientnet_params(model_name)\n",
        "        return res\n",
        "\n",
        "    @classmethod\n",
        "    def _check_model_name_is_valid(cls, model_name, also_need_pretrained_weights=False):\n",
        "        \"\"\" Validates model name. None that pretrained weights are only available for\n",
        "        the first four models (efficientnet-b{i} for i in 0,1,2,3) at the moment. \"\"\"\n",
        "        num_models = 4 if also_need_pretrained_weights else 8\n",
        "        valid_models = ['efficientnet_b'+str(i) for i in range(num_models)]\n",
        "        if model_name.replace('-','_') not in valid_models:\n",
        "            raise ValueError('model_name should be one of: ' + ', '.join(valid_models))"
      ],
      "execution_count": 0,
      "outputs": []
    },
    {
      "cell_type": "code",
      "metadata": {
        "id": "tRxCryxZSvM5",
        "colab_type": "code",
        "colab": {}
      },
      "source": [
        "#making model\n",
        "md_ef = EfficientNet.from_pretrained('efficientnet-b5', num_classes=2)"
      ],
      "execution_count": 0,
      "outputs": []
    },
    {
      "cell_type": "code",
      "metadata": {
        "id": "wu44oAt3XfFj",
        "colab_type": "code",
        "colab": {}
      },
      "source": [
        "def gammaCorrection(img_original, gamma):\n",
        "    lookUpTable = np.empty((1,256), np.uint8)\n",
        "    for i in range(256):\n",
        "        lookUpTable[0,i] = np.clip(pow(i / 255.0, gamma) * 255.0, 0, 255)\n",
        "\n",
        "    res = cv2.LUT(img_original, lookUpTable)\n",
        "    return res;\n",
        "\n",
        "def cropImage(img):\n",
        "    gray = cv2.cvtColor(img,cv2.COLOR_BGR2GRAY)\n",
        "    ret,thresh = cv2.threshold(gray, 10, 255, cv2.THRESH_BINARY)\n",
        "    contours, hierarchy = cv2.findContours(thresh, cv2.RETR_LIST, cv2.CHAIN_APPROX_SIMPLE)\n",
        "    rects = [cv2.boundingRect(cnt) for cnt in contours]\n",
        "\n",
        "    #Calculate the combined bounding rectangle points.\n",
        "    top_x = min([x for (x, y, w, h) in rects])\n",
        "    top_y = min([y for (x, y, w, h) in rects])\n",
        "    bottom_x = max([x+w for (x, y, w, h) in rects])\n",
        "    bottom_y = max([y+h for (x, y, w, h) in rects])\n",
        "\n",
        "    crop = gray[top_y:bottom_y,top_x:bottom_x]\n",
        "    crop = cv2.resize(crop,(800,600), interpolation=cv2.INTER_CUBIC)\n",
        "    return crop\n",
        "\n",
        "def preprocessImg(inputdir, outputdir):\n",
        "    imgList = os.listdir(inputdir)\n",
        "    listA = len(imgList)\n",
        "    gamma = 0.7\n",
        "    for i in range(listA):\n",
        "        img = cv2.imread(inputdir+imgList[i])\n",
        "        crop = cropImage(img)\n",
        "        new_image = gammaCorrection(crop,gamma)\n",
        "        #improve contrast of the image\n",
        "        clahe = cv2.createCLAHE(clipLimit=2.0, tileGridSize=(8,8))\n",
        "        cl1 = clahe.apply(new_image)\n",
        "        cv2.imwrite(str(outputdir+imgList[i]),cl1)\n",
        "        \n",
        "output_folder_train = os.path.join('../', 'output/train/')\n",
        "output_folder_test = os.path.join('../', 'output/test/')\n",
        "if not os.path.exists(output_folder_train):\n",
        "    os.makedirs(output_folder_train)\n",
        "if not os.path.exists(output_folder_test):\n",
        "    os.makedirs(output_folder_test)   "
      ],
      "execution_count": 0,
      "outputs": []
    },
    {
      "cell_type": "code",
      "metadata": {
        "id": "SofCkx-JZpL3",
        "colab_type": "code",
        "outputId": "52fbcbfb-a36f-40a7-f0af-5cc0250c2b6f",
        "colab": {
          "base_uri": "https://localhost:8080/",
          "height": 55
        }
      },
      "source": [
        "download = drive.CreateFile({'id': '1Kr8tXO_a0RhAO7cLA41a2SqE5w7vDC42'})\n",
        "download.GetContentFile('test.csv')\n",
        "test_df = pd.read_csv('test.csv')\n",
        "test_df.head()\n",
        "\n",
        "import cv2\n",
        "\n",
        "'''def get_df():\n",
        "    base_image_dir = os.path.join('.')\n",
        "    train_dir = os.path.join('images/')\n",
        "    test_dir = os.path.join('images/')\n",
        "    df = pd.read_csv('train.csv')\n",
        "#    df['path'] = df['image_names']\n",
        "#    df = df.drop(columns=['image_names'])\n",
        "    df = df.sample(frac=1).reset_index(drop=True) #shuffle dataframe\n",
        "    test_df = pd.read_csv('test.csv')\n",
        "    preprocessImg(train_dir,output_folder_train)\n",
        "    preprocessImg(test_dir,output_folder_test)\n",
        "    return df, test_df\n",
        "\n",
        "df, test_df = get_df()'''"
      ],
      "execution_count": 33,
      "outputs": [
        {
          "output_type": "execute_result",
          "data": {
            "text/plain": [
              "\"def get_df():\\n    base_image_dir = os.path.join('.')\\n    train_dir = os.path.join('images/')\\n    test_dir = os.path.join('images/')\\n    df = pd.read_csv('train.csv')\\n#    df['path'] = df['image_names']\\n#    df = df.drop(columns=['image_names'])\\n    df = df.sample(frac=1).reset_index(drop=True) #shuffle dataframe\\n    test_df = pd.read_csv('test.csv')\\n    preprocessImg(train_dir,output_folder_train)\\n    preprocessImg(test_dir,output_folder_test)\\n    return df, test_df\\n\\ndf, test_df = get_df()\""
            ]
          },
          "metadata": {
            "tags": []
          },
          "execution_count": 33
        }
      ]
    },
    {
      "cell_type": "code",
      "metadata": {
        "id": "voRdVHAEYRZi",
        "colab_type": "code",
        "colab": {}
      },
      "source": [
        "bs = 16\n",
        "sz = 256\n",
        "tfms = get_transforms(do_flip=True,flip_vert=False, max_rotate=180,max_warp=0,max_zoom=1.1,max_lighting=0.1,p_lighting=0.5)"
      ],
      "execution_count": 0,
      "outputs": []
    },
    {
      "cell_type": "code",
      "metadata": {
        "id": "RiWaRNplZtPp",
        "colab_type": "code",
        "colab": {}
      },
      "source": [
        "##transformations to be done to images\n",
        "tfms = get_transforms(do_flip=False,flip_vert=False ,max_rotate=10.0, max_zoom=1.22, max_lighting=0.22, max_warp=0.0, p_affine=0.75,\n",
        "                      p_lighting=0.75)\n",
        "#, xtra_tfms=zoom_crop(scale=(0.9,1.8), do_rand=True, p=0.8))\n",
        "\n",
        "## create databunch of test set to be passed\n",
        "test_img = ImageList.from_df(test_df, path='images/')"
      ],
      "execution_count": 0,
      "outputs": []
    },
    {
      "cell_type": "code",
      "metadata": {
        "id": "aMULU5nUXeNh",
        "colab_type": "code",
        "colab": {}
      },
      "source": [
        "np.random.seed(145)\n",
        "## create source of train image databunch\n",
        "src = (ImageList.from_df(train_df, path='images/')\n",
        "       .split_by_rand_pct(0.2)\n",
        "       #.split_none()\n",
        "       .label_from_df()\n",
        "       .add_test(test_img))"
      ],
      "execution_count": 0,
      "outputs": []
    },
    {
      "cell_type": "code",
      "metadata": {
        "id": "x0AqXvNdYRX7",
        "colab_type": "code",
        "colab": {}
      },
      "source": [
        "data = (src.transform(tfms, size=256,padding_mode='reflection',resize_method=ResizeMethod.SQUISH)\n",
        "        .databunch(path='.', bs=16, device= torch.device('cuda:0')).normalize(imagenet_stats))"
      ],
      "execution_count": 0,
      "outputs": []
    },
    {
      "cell_type": "code",
      "metadata": {
        "id": "9rtK0M3f7dBI",
        "colab_type": "code",
        "outputId": "928b64e7-eb2c-4dd4-ab21-c9ec59e9b3ca",
        "colab": {
          "base_uri": "https://localhost:8080/",
          "height": 85,
          "referenced_widgets": [
            "ff042eb2891d4184b9d35e867c4ff8d0",
            "2dcffc2c5d3f46d289f52b3e7e3e1130",
            "2b87c94aae7541eb9323560b124d719b",
            "cb4249e9bc1443dfbe2ef91925d56831",
            "881d99d677984d81bd20f9c57ab6ab9c",
            "ad7255fd7b5447efa02847bc4a74f8a5",
            "9189e856bf5c4a2db711403b86433deb",
            "e643bb082e8a4cb297bd3dd56053cc7f"
          ]
        }
      },
      "source": [
        "\n",
        "\n",
        "'''from fastai.metrics import error_rate # 1 - accuracy\n",
        "\n",
        "learn = Learner(data, \n",
        "                md_ef, \n",
        "                metrics=[FBeta(beta=1, average='macro'), accuracy], \n",
        "                model_dir=\"models\")\n",
        "\n",
        "learn.data.add_test(ImageList.from_df(test_df,\n",
        "                                      './',\n",
        "                                      folder='images',\n",
        "                                      suffix=''))'''\n",
        "\n",
        "learn = cnn_learner(data=data, base_arch=models.vgg19_bn, metrics=[FBeta(beta=1, average='macro'), accuracy],\n",
        "                    callback_fns=ShowGraph)"
      ],
      "execution_count": 69,
      "outputs": [
        {
          "output_type": "stream",
          "text": [
            "Downloading: \"https://download.pytorch.org/models/vgg19_bn-c79401a0.pth\" to /root/.cache/torch/checkpoints/vgg19_bn-c79401a0.pth\n"
          ],
          "name": "stderr"
        },
        {
          "output_type": "display_data",
          "data": {
            "application/vnd.jupyter.widget-view+json": {
              "model_id": "ff042eb2891d4184b9d35e867c4ff8d0",
              "version_minor": 0,
              "version_major": 2
            },
            "text/plain": [
              "HBox(children=(FloatProgress(value=0.0, max=574769405.0), HTML(value='')))"
            ]
          },
          "metadata": {
            "tags": []
          }
        },
        {
          "output_type": "stream",
          "text": [
            "\n"
          ],
          "name": "stdout"
        }
      ]
    },
    {
      "cell_type": "code",
      "metadata": {
        "id": "XG1WjSZjaFZe",
        "colab_type": "code",
        "colab": {}
      },
      "source": [
        "#learn.lr_find()\n",
        "#learn.recorder.plot(suggestion=True)"
      ],
      "execution_count": 0,
      "outputs": []
    },
    {
      "cell_type": "code",
      "metadata": {
        "id": "RvpqZwRCaaUq",
        "colab_type": "code",
        "outputId": "48922562-6d3a-4e24-fe35-a21004f9a4cb",
        "colab": {
          "base_uri": "https://localhost:8080/",
          "height": 35
        }
      },
      "source": [
        "gc.collect()"
      ],
      "execution_count": 70,
      "outputs": [
        {
          "output_type": "execute_result",
          "data": {
            "text/plain": [
              "5824"
            ]
          },
          "metadata": {
            "tags": []
          },
          "execution_count": 70
        }
      ]
    },
    {
      "cell_type": "code",
      "metadata": {
        "id": "lMZHDjWaSY7U",
        "colab_type": "code",
        "outputId": "ff9d2321-c045-44ab-e7f4-cb6ccd5a02d8",
        "colab": {
          "base_uri": "https://localhost:8080/",
          "height": 595
        }
      },
      "source": [
        "#lr = 2.75E-06\n",
        "learn.fit_one_cycle(10, 1e-03)"
      ],
      "execution_count": 71,
      "outputs": [
        {
          "output_type": "display_data",
          "data": {
            "text/html": [
              "<table border=\"1\" class=\"dataframe\">\n",
              "  <thead>\n",
              "    <tr style=\"text-align: left;\">\n",
              "      <th>epoch</th>\n",
              "      <th>train_loss</th>\n",
              "      <th>valid_loss</th>\n",
              "      <th>f_beta</th>\n",
              "      <th>accuracy</th>\n",
              "      <th>time</th>\n",
              "    </tr>\n",
              "  </thead>\n",
              "  <tbody>\n",
              "    <tr>\n",
              "      <td>0</td>\n",
              "      <td>0.714872</td>\n",
              "      <td>0.252379</td>\n",
              "      <td>0.893685</td>\n",
              "      <td>0.896657</td>\n",
              "      <td>00:58</td>\n",
              "    </tr>\n",
              "    <tr>\n",
              "      <td>1</td>\n",
              "      <td>0.437268</td>\n",
              "      <td>0.192962</td>\n",
              "      <td>0.924089</td>\n",
              "      <td>0.927052</td>\n",
              "      <td>00:47</td>\n",
              "    </tr>\n",
              "    <tr>\n",
              "      <td>2</td>\n",
              "      <td>0.333731</td>\n",
              "      <td>0.178656</td>\n",
              "      <td>0.946162</td>\n",
              "      <td>0.948328</td>\n",
              "      <td>00:48</td>\n",
              "    </tr>\n",
              "    <tr>\n",
              "      <td>3</td>\n",
              "      <td>0.225586</td>\n",
              "      <td>0.209085</td>\n",
              "      <td>0.934266</td>\n",
              "      <td>0.936170</td>\n",
              "      <td>00:47</td>\n",
              "    </tr>\n",
              "    <tr>\n",
              "      <td>4</td>\n",
              "      <td>0.243931</td>\n",
              "      <td>0.129967</td>\n",
              "      <td>0.946426</td>\n",
              "      <td>0.948328</td>\n",
              "      <td>00:47</td>\n",
              "    </tr>\n",
              "    <tr>\n",
              "      <td>5</td>\n",
              "      <td>0.189608</td>\n",
              "      <td>0.156827</td>\n",
              "      <td>0.946296</td>\n",
              "      <td>0.948328</td>\n",
              "      <td>00:47</td>\n",
              "    </tr>\n",
              "    <tr>\n",
              "      <td>6</td>\n",
              "      <td>0.143203</td>\n",
              "      <td>0.154512</td>\n",
              "      <td>0.949130</td>\n",
              "      <td>0.951368</td>\n",
              "      <td>00:47</td>\n",
              "    </tr>\n",
              "    <tr>\n",
              "      <td>7</td>\n",
              "      <td>0.118930</td>\n",
              "      <td>0.129464</td>\n",
              "      <td>0.958829</td>\n",
              "      <td>0.960486</td>\n",
              "      <td>00:47</td>\n",
              "    </tr>\n",
              "    <tr>\n",
              "      <td>8</td>\n",
              "      <td>0.117587</td>\n",
              "      <td>0.125706</td>\n",
              "      <td>0.958932</td>\n",
              "      <td>0.960486</td>\n",
              "      <td>00:47</td>\n",
              "    </tr>\n",
              "    <tr>\n",
              "      <td>9</td>\n",
              "      <td>0.081635</td>\n",
              "      <td>0.140308</td>\n",
              "      <td>0.952373</td>\n",
              "      <td>0.954407</td>\n",
              "      <td>00:47</td>\n",
              "    </tr>\n",
              "  </tbody>\n",
              "</table>"
            ],
            "text/plain": [
              "<IPython.core.display.HTML object>"
            ]
          },
          "metadata": {
            "tags": []
          }
        },
        {
          "output_type": "display_data",
          "data": {
            "image/png": "[encoded data removed]",
            "text/plain": [
              "<Figure size 432x288 with 1 Axes>"
            ]
          },
          "metadata": {
            "tags": []
          }
        }
      ]
    },
    {
      "cell_type": "code",
      "metadata": {
        "id": "vIn9R2Ad9mT7",
        "colab_type": "code",
        "outputId": "8d61fda7-816e-4c92-eb47-bf0f1ff1db1c",
        "colab": {
          "base_uri": "https://localhost:8080/",
          "height": 17
        }
      },
      "source": [
        "preds,y = learn.get_preds(DatasetType.Test)\n",
        "preds,y = learn.TTA(ds_type=DatasetType.Test, scale=1.0)"
      ],
      "execution_count": 72,
      "outputs": [
        {
          "output_type": "display_data",
          "data": {
            "text/html": [
              ""
            ],
            "text/plain": [
              "<IPython.core.display.HTML object>"
            ]
          },
          "metadata": {
            "tags": []
          }
        },
        {
          "output_type": "display_data",
          "data": {
            "text/html": [
              ""
            ],
            "text/plain": [
              "<IPython.core.display.HTML object>"
            ]
          },
          "metadata": {
            "tags": []
          }
        },
        {
          "output_type": "display_data",
          "data": {
            "text/html": [
              ""
            ],
            "text/plain": [
              "<IPython.core.display.HTML object>"
            ]
          },
          "metadata": {
            "tags": []
          }
        }
      ]
    },
    {
      "cell_type": "code",
      "metadata": {
        "id": "ZVxRVkoMOrC6",
        "colab_type": "code",
        "colab": {}
      },
      "source": [
        "labelled_preds = [np.argmax(preds[i]) for i in range(len(preds))]\n",
        "labelled_preds = np.array(labelled_preds)"
      ],
      "execution_count": 0,
      "outputs": []
    },
    {
      "cell_type": "code",
      "metadata": {
        "id": "g0aTWIoAC6jF",
        "colab_type": "code",
        "colab": {}
      },
      "source": [
        "#create submission file\n",
        "df = pd.DataFrame({'image_names':test_df['image_names'], 'emergency_or_not':labelled_preds}, columns=['image_names', 'emergency_or_not'])\n",
        "df.to_csv('submission.csv', index=False)"
      ],
      "execution_count": 0,
      "outputs": []
    },
    {
      "cell_type": "code",
      "metadata": {
        "id": "sWECtuO6F-ve",
        "colab_type": "code",
        "colab": {}
      },
      "source": [
        "from google.colab import files\n",
        "files.download('submission.csv')"
      ],
      "execution_count": 0,
      "outputs": []
    }
  ]
}